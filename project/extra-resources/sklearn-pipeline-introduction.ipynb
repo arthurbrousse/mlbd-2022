{
 "cells": [
  {
   "cell_type": "markdown",
   "id": "formed-footwear",
   "metadata": {},
   "source": [
    "# Machine Learning Pipeline \n",
    "\n",
    "This notebook is meant to be a brief and simple introduction to pipelines with the hope that it will spark your interest to learn more.    "
   ]
  },
  {
   "cell_type": "markdown",
   "id": "abandoned-cookie",
   "metadata": {},
   "source": [
    "### Why should you create a pipeline?\n",
    "* Reusable across projects\n",
    "* Test new ideas (components easily)\n",
    "* Reduce bugs/erros\n",
    "* Prevents data leaking\n"
   ]
  },
  {
   "cell_type": "code",
   "execution_count": 1,
   "id": "starting-color",
   "metadata": {},
   "outputs": [],
   "source": [
    "from sklearn import datasets\n",
    "from sklearn.metrics import classification_report\n",
    "from sklearn.pipeline import Pipeline\n",
    "from sklearn.model_selection import train_test_split,cross_val_score, GridSearchCV\n",
    "from sklearn.svm import SVC\n",
    "from sklearn.linear_model import LogisticRegression\n",
    "from sklearn.preprocessing import StandardScaler, MinMaxScaler, \\\n",
    "RobustScaler, MaxAbsScaler\n",
    "import numpy as np\n",
    "import pandas as pd"
   ]
  },
  {
   "cell_type": "markdown",
   "id": "expected-imaging",
   "metadata": {},
   "source": [
    "## 0 - Load data"
   ]
  },
  {
   "cell_type": "code",
   "execution_count": 11,
   "id": "stylish-murray",
   "metadata": {},
   "outputs": [],
   "source": [
    "# import some data to play with\n",
    "iris = datasets.load_iris()\n",
    "X = iris.data[50:]  # we only take the first two classes\n",
    "y = iris.target[50:] # binary classification\n",
    "\n",
    "# Split the data into train and test (val)\n",
    "X_train, X_test, y_train, y_test = train_test_split(X,y,test_size=0.2, \n",
    "                                                    random_state=123)"
   ]
  },
  {
   "cell_type": "markdown",
   "id": "smooth-money",
   "metadata": {},
   "source": [
    "## 1 - Simple pipeline\n",
    "We will explore sklearn [pipeline](https://scikit-learn.org/stable/modules/compose.html#pipeline) class"
   ]
  },
  {
   "cell_type": "code",
   "execution_count": 12,
   "id": "polar-atmosphere",
   "metadata": {},
   "outputs": [
    {
     "name": "stdout",
     "output_type": "stream",
     "text": [
      "              precision    recall  f1-score   support\n",
      "\n",
      "           1       1.00      0.90      0.95        10\n",
      "           2       0.91      1.00      0.95        10\n",
      "\n",
      "    accuracy                           0.95        20\n",
      "   macro avg       0.95      0.95      0.95        20\n",
      "weighted avg       0.95      0.95      0.95        20\n",
      "\n"
     ]
    }
   ],
   "source": [
    "# Without the pipeline\n",
    "scaler = StandardScaler()\n",
    "X_train = scaler.fit_transform(X_train)\n",
    "X_test = scaler.transform(X_test)\n",
    "\n",
    "model = SVC()\n",
    "model.fit(X_train, y_train)\n",
    "y_pred = model.predict(X_test)\n",
    "print(classification_report(y_pred, y_test))"
   ]
  },
  {
   "cell_type": "markdown",
   "id": "instructional-spiritual",
   "metadata": {},
   "source": [
    "How does this scale when we have more steps?"
   ]
  },
  {
   "cell_type": "code",
   "execution_count": 13,
   "id": "tamil-manor",
   "metadata": {},
   "outputs": [
    {
     "name": "stdout",
     "output_type": "stream",
     "text": [
      "              precision    recall  f1-score   support\n",
      "\n",
      "           1       1.00      0.90      0.95        10\n",
      "           2       0.91      1.00      0.95        10\n",
      "\n",
      "    accuracy                           0.95        20\n",
      "   macro avg       0.95      0.95      0.95        20\n",
      "weighted avg       0.95      0.95      0.95        20\n",
      "\n"
     ]
    }
   ],
   "source": [
    "# With the pipeline\n",
    "steps = [('scaler', StandardScaler()), # preprocessing steps\n",
    "         ('SVM', SVC())]               # model\n",
    "\n",
    "pipeline = Pipeline(steps) \n",
    "pipeline.fit(X_train, y_train) \n",
    "y_pred = pipeline.predict(X_test)\n",
    "print(classification_report(y_pred, y_test))"
   ]
  },
  {
   "cell_type": "markdown",
   "id": "published-helen",
   "metadata": {},
   "source": [
    "## 2 - Pipeline with cross-validation\n",
    "\n",
    "Without the pipeline, if you want to prevent data leaking, you need to standardize separetly on every fold! \n",
    "\n"
   ]
  },
  {
   "cell_type": "code",
   "execution_count": 14,
   "id": "cordless-postcard",
   "metadata": {},
   "outputs": [
    {
     "data": {
      "text/plain": [
       "array([1. , 1. , 1. , 1. , 0.8, 0.8, 0.8, 1. , 1. , 1. ])"
      ]
     },
     "execution_count": 14,
     "metadata": {},
     "output_type": "execute_result"
    }
   ],
   "source": [
    "steps = [('scaler', StandardScaler()), # preprocessing steps\n",
    "         ('SVM', SVC())]               # model\n",
    "\n",
    "pipeline = Pipeline(steps)\n",
    "\n",
    "# We send X and y complete\n",
    "cross_val_score(pipeline, X, y, cv=10, scoring =\"recall\")"
   ]
  },
  {
   "cell_type": "markdown",
   "id": "freelance-correlation",
   "metadata": {},
   "source": [
    "## 3 - Pipeline with GridSearch"
   ]
  },
  {
   "cell_type": "code",
   "execution_count": 5,
   "id": "equal-barrier",
   "metadata": {},
   "outputs": [
    {
     "name": "stdout",
     "output_type": "stream",
     "text": [
      "Best parameter (CV score=0.940):\n",
      "{'SVM__C': 0.0001}\n"
     ]
    }
   ],
   "source": [
    "# Parameters of pipelines can be set using ‘__’ separated parameter names:\n",
    "param_grid = {\n",
    "    'SVM__C': np.logspace(-4, 4, 4),\n",
    "}\n",
    "\n",
    "steps = [('scaler', StandardScaler()), # preprocessing steps\n",
    "         ('SVM', SVC())]               # model\n",
    "\n",
    "pipeline = Pipeline(steps)\n",
    "\n",
    "search = GridSearchCV(pipeline, param_grid, n_jobs=-1, cv = 10, scoring = \"recall\")\n",
    "search.fit(X, y)\n",
    "print(\"Best parameter (CV score=%0.3f):\" % search.best_score_)\n",
    "print(search.best_params_)"
   ]
  },
  {
   "cell_type": "markdown",
   "id": "wired-agriculture",
   "metadata": {},
   "source": [
    "## 4 - Pipeline with hyper-hyper parameter GridSearch\n",
    "What if you want to explore different preprocessing steps (scalers)? "
   ]
  },
  {
   "cell_type": "code",
   "execution_count": 6,
   "id": "liberal-mambo",
   "metadata": {},
   "outputs": [
    {
     "name": "stdout",
     "output_type": "stream",
     "text": [
      "Scaler: StandardScaler()\n",
      "Best parameter (CV score=0.940):\n",
      "{'SVM__C': 0.0001}\n",
      "Scaler: RobustScaler()\n",
      "Best parameter (CV score=0.940):\n",
      "{'SVM__C': 21.54434690031882}\n",
      "Scaler: MinMaxScaler()\n",
      "Best parameter (CV score=0.960):\n",
      "{'SVM__C': 0.0001}\n",
      "Scaler: MaxAbsScaler()\n",
      "Best parameter (CV score=0.960):\n",
      "{'SVM__C': 0.0001}\n"
     ]
    }
   ],
   "source": [
    "scalers =  {\n",
    "    StandardScaler(),\n",
    "    MinMaxScaler(),\n",
    "    RobustScaler(),\n",
    "    MaxAbsScaler()}\n",
    "\n",
    "param_grid = {\n",
    "    'SVM__C': np.logspace(-4, 4, 4),\n",
    "}\n",
    "\n",
    "for scaler in scalers:\n",
    "    \n",
    "    steps = [('scaler', scaler), # preprocessing steps\n",
    "             ('SVM', SVC())]               # Model\n",
    "\n",
    "    pipeline = Pipeline(steps)\n",
    "    \n",
    "    search = GridSearchCV(pipeline, param_grid, n_jobs=-1, cv = 10, scoring = \"recall\")\n",
    "    search.fit(X, y)\n",
    "    print(\"Scaler: %s\" % scaler)\n",
    "    print(\"Best parameter (CV score=%0.3f):\" % search.best_score_)\n",
    "    print(search.best_params_)\n"
   ]
  },
  {
   "cell_type": "markdown",
   "id": "sound-eagle",
   "metadata": {},
   "source": [
    "**What if we want to explore different models?**\n",
    "\n",
    "Note: here we could do it in different steps so that we don't scale the data multiple times.\n",
    "We could scale once and then test different classifiers.\n",
    "We decided to use the complete pipeline for code consistency. \n"
   ]
  },
  {
   "cell_type": "code",
   "execution_count": 7,
   "id": "driven-greenhouse",
   "metadata": {},
   "outputs": [
    {
     "name": "stdout",
     "output_type": "stream",
     "text": [
      "Model: LogisticRegression()\n",
      "Best parameter (CV score=0.960):\n",
      "{'model__C': 21.54434690031882}\n",
      "Model: SVC()\n",
      "Best parameter (CV score=0.940):\n",
      "{'model__C': 0.0001}\n"
     ]
    }
   ],
   "source": [
    "models =  {\n",
    "    'LR': LogisticRegression(),\n",
    "    'SVM': SVC()\n",
    "        }\n",
    "\n",
    "param_grid = {\n",
    "    'SVM': {'model__C': np.logspace(-4, 4, 4)},\n",
    "    'LR': {'model__C': np.logspace(-4, 4, 4)}\n",
    "}\n",
    "\n",
    "\n",
    "for name in models.keys():\n",
    "    model = models[name]\n",
    "    params = param_grid[name]\n",
    "    \n",
    "    steps = [('scaler', StandardScaler()), # preprocessing steps\n",
    "             ('model', model)]               # Model\n",
    "\n",
    "    pipeline = Pipeline(steps)\n",
    "    \n",
    "    search = GridSearchCV(pipeline, params, n_jobs=-1, cv = 10, scoring = \"recall\")\n",
    "    search.fit(X, y)\n",
    "    print(\"Model: %s\" % model)\n",
    "    print(\"Best parameter (CV score=%0.3f):\" % search.best_score_)\n",
    "    print(search.best_params_)\n"
   ]
  },
  {
   "cell_type": "markdown",
   "id": "dietary-volleyball",
   "metadata": {},
   "source": [
    "## 5 - Magic Loop"
   ]
  },
  {
   "cell_type": "code",
   "execution_count": 8,
   "id": "desperate-discrimination",
   "metadata": {},
   "outputs": [],
   "source": [
    "models =  {\n",
    "    'LR': LogisticRegression(),\n",
    "    'SVM': SVC()\n",
    "        }\n",
    "\n",
    "param_grid = {\n",
    "    'SVM': {'model__C': np.logspace(-4, 4, 4)},\n",
    "    'LR': {'model__C': np.logspace(-4, 4, 4)}\n",
    "}\n",
    "\n",
    "results_list = []\n",
    "for scaler in scalers:\n",
    "    for name in models.keys():\n",
    "        model = models[name]\n",
    "        params = param_grid[name]\n",
    "        steps = [('scaler', scaler), # preprocessing steps\n",
    "                 ('model', model)]               # Model\n",
    "\n",
    "        pipeline = Pipeline(steps)\n",
    "        search = GridSearchCV(pipeline, params, n_jobs=-1, cv = 10, scoring = \"recall\")\n",
    "        search.fit(X, y)\n",
    "        results = (model, scaler, search.best_score_,search.best_params_)\n",
    "        results_list.append(results)\n"
   ]
  },
  {
   "cell_type": "code",
   "execution_count": 9,
   "id": "ordered-seafood",
   "metadata": {},
   "outputs": [
    {
     "data": {
      "text/html": [
       "<div>\n",
       "<style scoped>\n",
       "    .dataframe tbody tr th:only-of-type {\n",
       "        vertical-align: middle;\n",
       "    }\n",
       "\n",
       "    .dataframe tbody tr th {\n",
       "        vertical-align: top;\n",
       "    }\n",
       "\n",
       "    .dataframe thead th {\n",
       "        text-align: right;\n",
       "    }\n",
       "</style>\n",
       "<table border=\"1\" class=\"dataframe\">\n",
       "  <thead>\n",
       "    <tr style=\"text-align: right;\">\n",
       "      <th></th>\n",
       "      <th>0</th>\n",
       "      <th>1</th>\n",
       "      <th>2</th>\n",
       "      <th>3</th>\n",
       "    </tr>\n",
       "  </thead>\n",
       "  <tbody>\n",
       "    <tr>\n",
       "      <th>1</th>\n",
       "      <td>SVC()</td>\n",
       "      <td>StandardScaler()</td>\n",
       "      <td>0.94</td>\n",
       "      <td>{'model__C': 0.0001}</td>\n",
       "    </tr>\n",
       "    <tr>\n",
       "      <th>3</th>\n",
       "      <td>SVC()</td>\n",
       "      <td>RobustScaler()</td>\n",
       "      <td>0.94</td>\n",
       "      <td>{'model__C': 21.54434690031882}</td>\n",
       "    </tr>\n",
       "    <tr>\n",
       "      <th>0</th>\n",
       "      <td>LogisticRegression()</td>\n",
       "      <td>StandardScaler()</td>\n",
       "      <td>0.96</td>\n",
       "      <td>{'model__C': 21.54434690031882}</td>\n",
       "    </tr>\n",
       "    <tr>\n",
       "      <th>2</th>\n",
       "      <td>LogisticRegression()</td>\n",
       "      <td>RobustScaler()</td>\n",
       "      <td>0.96</td>\n",
       "      <td>{'model__C': 21.54434690031882}</td>\n",
       "    </tr>\n",
       "    <tr>\n",
       "      <th>4</th>\n",
       "      <td>LogisticRegression()</td>\n",
       "      <td>MinMaxScaler()</td>\n",
       "      <td>0.96</td>\n",
       "      <td>{'model__C': 10000.0}</td>\n",
       "    </tr>\n",
       "    <tr>\n",
       "      <th>5</th>\n",
       "      <td>SVC()</td>\n",
       "      <td>MinMaxScaler()</td>\n",
       "      <td>0.96</td>\n",
       "      <td>{'model__C': 0.0001}</td>\n",
       "    </tr>\n",
       "    <tr>\n",
       "      <th>6</th>\n",
       "      <td>LogisticRegression()</td>\n",
       "      <td>MaxAbsScaler()</td>\n",
       "      <td>0.96</td>\n",
       "      <td>{'model__C': 0.046415888336127774}</td>\n",
       "    </tr>\n",
       "    <tr>\n",
       "      <th>7</th>\n",
       "      <td>SVC()</td>\n",
       "      <td>MaxAbsScaler()</td>\n",
       "      <td>0.96</td>\n",
       "      <td>{'model__C': 0.0001}</td>\n",
       "    </tr>\n",
       "  </tbody>\n",
       "</table>\n",
       "</div>"
      ],
      "text/plain": [
       "                      0                 1     2  \\\n",
       "1                 SVC()  StandardScaler()  0.94   \n",
       "3                 SVC()    RobustScaler()  0.94   \n",
       "0  LogisticRegression()  StandardScaler()  0.96   \n",
       "2  LogisticRegression()    RobustScaler()  0.96   \n",
       "4  LogisticRegression()    MinMaxScaler()  0.96   \n",
       "5                 SVC()    MinMaxScaler()  0.96   \n",
       "6  LogisticRegression()    MaxAbsScaler()  0.96   \n",
       "7                 SVC()    MaxAbsScaler()  0.96   \n",
       "\n",
       "                                    3  \n",
       "1                {'model__C': 0.0001}  \n",
       "3     {'model__C': 21.54434690031882}  \n",
       "0     {'model__C': 21.54434690031882}  \n",
       "2     {'model__C': 21.54434690031882}  \n",
       "4               {'model__C': 10000.0}  \n",
       "5                {'model__C': 0.0001}  \n",
       "6  {'model__C': 0.046415888336127774}  \n",
       "7                {'model__C': 0.0001}  "
      ]
     },
     "execution_count": 9,
     "metadata": {},
     "output_type": "execute_result"
    }
   ],
   "source": [
    "pd.DataFrame(results_list).sort_values(2)"
   ]
  },
  {
   "cell_type": "markdown",
   "id": "fixed-scenario",
   "metadata": {},
   "source": [
    "What other things can you play with? \n",
    "\n",
    "- Preprocessing data\n",
    "    - Standardization, or mean removal and variance scaling\n",
    "    - Non-linear transformation\n",
    "    - Normalization\n",
    "    - Encoding categorical features\n",
    "    - Discretization\n",
    "    - Imputation of missing values\n",
    "    - Generating polynomial features\n",
    "- Imputation of missing values\n",
    "    - Univariate vs. Multivariate Imputation\n",
    "    - Univariate feature imputation\n",
    "    - Multivariate feature imputation\n",
    "    - Nearest neighbors imputation\n",
    "    - Marking imputed values\n",
    "- Feature selection\n",
    "- Dimensionality reduction\n",
    "- Modeling\n",
    "\n",
    "More ideas [here](https://scikit-learn.org/stable/data_transforms.html)\n",
    "\n",
    "**What if I can't find the one I need?**\n",
    "[Create it](https://towardsdatascience.com/pipelines-custom-transformers-in-scikit-learn-the-step-by-step-guide-with-python-code-4a7d9b068156)! \n",
    "    \n",
    "More complex examples of [\"Magic Loops\"](https://github.com/rayidghani/magicloops/blob/master/simpleloop.py)"
   ]
  }
 ],
 "metadata": {
  "kernelspec": {
   "display_name": "mlbd",
   "language": "python",
   "name": "mlbd"
  },
  "language_info": {
   "codemirror_mode": {
    "name": "ipython",
    "version": 3
   },
   "file_extension": ".py",
   "mimetype": "text/x-python",
   "name": "python",
   "nbconvert_exporter": "python",
   "pygments_lexer": "ipython3",
   "version": "3.9.1"
  }
 },
 "nbformat": 4,
 "nbformat_minor": 5
}
