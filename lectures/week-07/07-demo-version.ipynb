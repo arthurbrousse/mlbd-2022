{
 "cells": [
  {
   "cell_type": "markdown",
   "id": "b8135284-1238-480e-89d8-5790b142ea66",
   "metadata": {},
   "source": [
    "# Lecture 7 - Demo Notebook"
   ]
  },
  {
   "cell_type": "markdown",
   "id": "494fe36e-c815-4bae-88b4-6c784e829d1d",
   "metadata": {},
   "source": [
    "In this lecture, we will use the same data set as in lecture 6.\n",
    "\n",
    "ASSISTments is a free tool for assigning and assessing math problems and homework. Teachers can select and assign problem sets. Once they get an assignment, students can complete it at their own pace and with the help of hints, multiple chances, and immediate feedback. Teachers get instant results broken down by individual student or for the whole class. The dataset involves 4,151 middle-school students practicing an electronic tutor that teaches and evaluates students in grade-school math. The student data are in a comma-delimited text file with one row per trial. The columns should correspond to a trial's user id, the order id (timestamp), the skill name, and and whether the student produced a correct response in the trial. More information on the platform can be found [here](https://www.commonsense.org/education/website/assistments). \n",
    "\n",
    "The ASSISTments data sets are often used for benchmarking knowledge tracing models. We will play with a simplified data set that contains the following columns:\n",
    "\n",
    "| Name                   | Description                         |\n",
    "| ---------------------- | ------------------------------------------------------------ |\n",
    "| user_id | The ID of the student who is solving the problem.  | |\n",
    "| order_id | The temporal ID (timestamp) associated with the student's answer to the problem.  | |\n",
    "| skill_name | The name of the skill associated with the problem. | |\n",
    "| correct | The student's performance on the problem: 1 if the problem's answer is correct at the first attempt, 0 otherwise. "
   ]
  },
  {
   "cell_type": "markdown",
   "id": "58c44a0e-7786-44cc-8b7a-12f0cd707d07",
   "metadata": {},
   "source": [
    "Note that this notebook will need to be run on a Tensorflow Kernel. If you have not done so, yet, do the following steps:\n",
    "1. In your Noto, open a console\n",
    "2. Run the following command: `kbuilder_create p_tf tensorflow`\n",
    "\n",
    "This command will install a virtual environment `p_tf` for you. To run the notebook, choose the kernel `p_tf` on the top right of Noto."
   ]
  },
  {
   "cell_type": "markdown",
   "id": "f8f92b49-a6b7-481e-abe3-8bd1d929965f",
   "metadata": {},
   "source": [
    "We first load the data set."
   ]
  },
  {
   "cell_type": "code",
   "execution_count": 1,
   "id": "6cb3cc5d-dfdc-4214-b01c-0f9b8dfa77a7",
   "metadata": {},
   "outputs": [
    {
     "name": "stderr",
     "output_type": "stream",
     "text": [
      "2022-04-03 22:47:52.147905: W tensorflow/stream_executor/platform/default/dso_loader.cc:64] Could not load dynamic library 'libcudart.so.11.0'; dlerror: libcudart.so.11.0: cannot open shared object file: No such file or directory\n",
      "2022-04-03 22:47:52.147956: I tensorflow/stream_executor/cuda/cudart_stub.cc:29] Ignore above cudart dlerror if you do not have a GPU set up on your machine.\n"
     ]
    }
   ],
   "source": [
    "# Principal package imports\n",
    "import matplotlib.pyplot as plt\n",
    "import seaborn as sns\n",
    "import pandas as pd\n",
    "import numpy as np\n",
    "import scipy as sc\n",
    "\n",
    "# Scikit-learn package imports\n",
    "from sklearn import feature_extraction, model_selection\n",
    "from sklearn.metrics import mean_squared_error, roc_auc_score\n",
    "\n",
    "# PyBKT package imports\n",
    "from pyBKT.models import Model\n",
    "# Import the lmm model class\n",
    "from pymer4.models import Lmer\n",
    "\n",
    "# Tensorflow\n",
    "import tensorflow as tf\n",
    "\n",
    "DATA_DIR = \"./../data/\""
   ]
  },
  {
   "cell_type": "code",
   "execution_count": 2,
   "id": "f0e03b6b-462f-4770-af1c-c0b4fd00f565",
   "metadata": {},
   "outputs": [
    {
     "data": {
      "text/html": [
       "<div>\n",
       "<style scoped>\n",
       "    .dataframe tbody tr th:only-of-type {\n",
       "        vertical-align: middle;\n",
       "    }\n",
       "\n",
       "    .dataframe tbody tr th {\n",
       "        vertical-align: top;\n",
       "    }\n",
       "\n",
       "    .dataframe thead th {\n",
       "        text-align: right;\n",
       "    }\n",
       "</style>\n",
       "<table border=\"1\" class=\"dataframe\">\n",
       "  <thead>\n",
       "    <tr style=\"text-align: right;\">\n",
       "      <th></th>\n",
       "      <th>user_id</th>\n",
       "      <th>order_id</th>\n",
       "      <th>skill_name</th>\n",
       "      <th>correct</th>\n",
       "    </tr>\n",
       "  </thead>\n",
       "  <tbody>\n",
       "    <tr>\n",
       "      <th>0</th>\n",
       "      <td>64525</td>\n",
       "      <td>33022537</td>\n",
       "      <td>Box and Whisker</td>\n",
       "      <td>1</td>\n",
       "    </tr>\n",
       "    <tr>\n",
       "      <th>1</th>\n",
       "      <td>64525</td>\n",
       "      <td>33022709</td>\n",
       "      <td>Box and Whisker</td>\n",
       "      <td>1</td>\n",
       "    </tr>\n",
       "    <tr>\n",
       "      <th>2</th>\n",
       "      <td>70363</td>\n",
       "      <td>35450204</td>\n",
       "      <td>Box and Whisker</td>\n",
       "      <td>0</td>\n",
       "    </tr>\n",
       "    <tr>\n",
       "      <th>3</th>\n",
       "      <td>70363</td>\n",
       "      <td>35450295</td>\n",
       "      <td>Box and Whisker</td>\n",
       "      <td>1</td>\n",
       "    </tr>\n",
       "    <tr>\n",
       "      <th>4</th>\n",
       "      <td>70363</td>\n",
       "      <td>35450311</td>\n",
       "      <td>Box and Whisker</td>\n",
       "      <td>0</td>\n",
       "    </tr>\n",
       "  </tbody>\n",
       "</table>\n",
       "</div>"
      ],
      "text/plain": [
       "   user_id  order_id       skill_name  correct\n",
       "0    64525  33022537  Box and Whisker        1\n",
       "1    64525  33022709  Box and Whisker        1\n",
       "2    70363  35450204  Box and Whisker        0\n",
       "3    70363  35450295  Box and Whisker        1\n",
       "4    70363  35450311  Box and Whisker        0"
      ]
     },
     "execution_count": 2,
     "metadata": {},
     "output_type": "execute_result"
    }
   ],
   "source": [
    "assistments = pd.read_csv(DATA_DIR + 'assistments.csv', low_memory=False).dropna()\n",
    "assistments.head()"
   ]
  },
  {
   "cell_type": "markdown",
   "id": "462477a1-47f4-4610-b41e-569cf320903f",
   "metadata": {},
   "source": [
    "Next, we print the number of unique students and skills in this data set."
   ]
  },
  {
   "cell_type": "code",
   "execution_count": 3,
   "id": "6d8bfc64-ddd6-48b7-9a05-5a5453e5f17b",
   "metadata": {},
   "outputs": [
    {
     "name": "stdout",
     "output_type": "stream",
     "text": [
      "Number of unique students in the dataset: 4151\n",
      "Number of unique skills in the dataset: 110\n"
     ]
    }
   ],
   "source": [
    "print(\"Number of unique students in the dataset:\", len(set(assistments['user_id'])))\n",
    "print(\"Number of unique skills in the dataset:\", len(set(assistments['skill_name'])))"
   ]
  },
  {
   "cell_type": "markdown",
   "id": "d3b13c9b-53d6-4a23-9496-5d41798d1dc7",
   "metadata": {},
   "source": [
    "We also implement a utility function that splits the data in two folds, making sure that all interactions of a student land in the same fold. We will use this function later when comparing predictive performance of the different models."
   ]
  },
  {
   "cell_type": "code",
   "execution_count": 4,
   "id": "d7ea098b-23ab-467f-981d-80b28f97dd99",
   "metadata": {},
   "outputs": [],
   "source": [
    "def create_iterator(data):\n",
    "    '''\n",
    "    Create an iterator to split interactions in data into train and test, with the same student not appearing in two diverse folds.\n",
    "    :param data:        Dataframe with student's interactions.\n",
    "    :return:            An iterator.\n",
    "    '''    \n",
    "    # Both passing a matrix with the raw data or just an array of indexes works\n",
    "    X = np.arange(len(data.index)) \n",
    "    # Groups of interactions are identified by the user id (we do not want the same user appearing in two folds)\n",
    "    groups = data['user_id'].values \n",
    "    return model_selection.GroupShuffleSplit(n_splits=1, train_size=.8, test_size=0.2, random_state=0).split(X, groups=groups)"
   ]
  },
  {
   "cell_type": "markdown",
   "id": "8ab12fe9-9103-4b4a-8ef5-7357934a1424",
   "metadata": {},
   "source": [
    "## BKT  - Learning Curves"
   ]
  },
  {
   "cell_type": "markdown",
   "id": "81af1c7d-fc01-4e5f-b664-e405ed8efb46",
   "metadata": {},
   "source": [
    "Last week, we have seen how to use BKT to predict the probability that a student will solve a task correctly.\n",
    "In addition, we can also use this type of model to compute learning curves and in this way analyze the learning activity (in our case the skills)."
   ]
  },
  {
   "cell_type": "markdown",
   "id": "098afe24-6fb5-4c0a-a7df-5a78e1f51dea",
   "metadata": {
    "tags": []
   },
   "source": [
    "We will compute learning curves for the following six skills:  \n",
    "`'Circle Graph', 'Venn Diagram', 'Mode', 'Division Fractions', 'Finding Percents', 'Area Rectangle'`"
   ]
  },
  {
   "cell_type": "code",
   "execution_count": 5,
   "id": "586a6f70-a30f-41fa-933a-0ed3857871c2",
   "metadata": {},
   "outputs": [
    {
     "name": "stdout",
     "output_type": "stream",
     "text": [
      "Skill set: {'Finding Percents', 'Venn Diagram', 'Circle Graph', 'Mode', 'Division Fractions', 'Area Rectangle'}\n",
      "Number of unique students in the subset: 1527\n",
      "Number of unique skills in the subset: 6\n"
     ]
    }
   ],
   "source": [
    "skills_subset = ['Circle Graph', 'Venn Diagram', 'Mode', 'Division Fractions', 'Finding Percents', 'Area Rectangle']\n",
    "data = assistments[assistments['skill_name'].isin(skills_subset)]\n",
    "\n",
    "print(\"Skill set:\", set(data['skill_name']))\n",
    "print(\"Number of unique students in the subset:\", len(set(data['user_id'])))\n",
    "print(\"Number of unique skills in the subset:\", len(set(data['skill_name'])))"
   ]
  },
  {
   "cell_type": "markdown",
   "id": "e30af2d7-6937-41c1-b615-10637460a543",
   "metadata": {},
   "source": [
    "We first fit a BKT model with all default parameters, i.e., Model(seed=0) in pyBKT, on the full data data set (no split into train and test set needed as we are not assessing predictive performance of the model here, but just checking interpretation). "
   ]
  },
  {
   "cell_type": "code",
   "execution_count": 6,
   "id": "c934fba9",
   "metadata": {},
   "outputs": [
    {
     "name": "stdout",
     "output_type": "stream",
     "text": [
      "CPU times: user 19.9 s, sys: 0 ns, total: 19.9 s\n",
      "Wall time: 20.2 s\n"
     ]
    }
   ],
   "source": [
    "# Initialize the model\n",
    "model = Model(seed=0)\n",
    "\n",
    "# Fit the model on the entire dataset\n",
    "%time model.fit(data=data)\n",
    "\n",
    "predictions = model.predict(data=data)[['user_id', 'skill_name', 'correct', 'correct_predictions']]\n",
    "\n",
    "# Rename the dataframe columns as per instructions\n",
    "predictions.columns = ['user_id', 'skill_name', 'y_true', 'y_pred_bkt']"
   ]
  },
  {
   "cell_type": "code",
   "execution_count": 7,
   "id": "0230d1fb",
   "metadata": {
    "tags": []
   },
   "outputs": [
    {
     "data": {
      "text/html": [
       "<div>\n",
       "<style scoped>\n",
       "    .dataframe tbody tr th:only-of-type {\n",
       "        vertical-align: middle;\n",
       "    }\n",
       "\n",
       "    .dataframe tbody tr th {\n",
       "        vertical-align: top;\n",
       "    }\n",
       "\n",
       "    .dataframe thead th {\n",
       "        text-align: right;\n",
       "    }\n",
       "</style>\n",
       "<table border=\"1\" class=\"dataframe\">\n",
       "  <thead>\n",
       "    <tr style=\"text-align: right;\">\n",
       "      <th></th>\n",
       "      <th>user_id</th>\n",
       "      <th>skill_name</th>\n",
       "      <th>y_true</th>\n",
       "      <th>y_pred_bkt</th>\n",
       "    </tr>\n",
       "  </thead>\n",
       "  <tbody>\n",
       "    <tr>\n",
       "      <th>3957</th>\n",
       "      <td>14</td>\n",
       "      <td>Circle Graph</td>\n",
       "      <td>0</td>\n",
       "      <td>0.45844</td>\n",
       "    </tr>\n",
       "    <tr>\n",
       "      <th>3958</th>\n",
       "      <td>14</td>\n",
       "      <td>Circle Graph</td>\n",
       "      <td>1</td>\n",
       "      <td>0.33284</td>\n",
       "    </tr>\n",
       "    <tr>\n",
       "      <th>3959</th>\n",
       "      <td>14</td>\n",
       "      <td>Circle Graph</td>\n",
       "      <td>0</td>\n",
       "      <td>0.56162</td>\n",
       "    </tr>\n",
       "    <tr>\n",
       "      <th>3960</th>\n",
       "      <td>14</td>\n",
       "      <td>Circle Graph</td>\n",
       "      <td>0</td>\n",
       "      <td>0.43306</td>\n",
       "    </tr>\n",
       "    <tr>\n",
       "      <th>3961</th>\n",
       "      <td>14</td>\n",
       "      <td>Circle Graph</td>\n",
       "      <td>0</td>\n",
       "      <td>0.31378</td>\n",
       "    </tr>\n",
       "  </tbody>\n",
       "</table>\n",
       "</div>"
      ],
      "text/plain": [
       "      user_id    skill_name  y_true  y_pred_bkt\n",
       "3957       14  Circle Graph       0     0.45844\n",
       "3958       14  Circle Graph       1     0.33284\n",
       "3959       14  Circle Graph       0     0.56162\n",
       "3960       14  Circle Graph       0     0.43306\n",
       "3961       14  Circle Graph       0     0.31378"
      ]
     },
     "execution_count": 7,
     "metadata": {},
     "output_type": "execute_result"
    }
   ],
   "source": [
    "predictions.head()"
   ]
  },
  {
   "cell_type": "markdown",
   "id": "000b33e5-fd6e-4c75-a195-e612b634f84d",
   "metadata": {},
   "source": [
    "Next, we create a function that computes the learning curve (observed or predicted) for us by averaging over the success rate of all users at a given opportunity."
   ]
  },
  {
   "cell_type": "code",
   "execution_count": 8,
   "id": "8a2e684e-0bf6-4273-ac3a-e7466576b43d",
   "metadata": {},
   "outputs": [],
   "source": [
    "def avg_y_by_x(x, y):\n",
    "    '''\n",
    "    Compute average learning curve and number of students over the number of opportunities. \n",
    "    x is the number of opportunities.\n",
    "    y the success rates of the users (can be predicted success rate or true success rate).\n",
    "    '''\n",
    "    # Transform lists into arrays\n",
    "    x = np.array(x)\n",
    "    y = np.array(y)\n",
    "\n",
    "    # Sort the integer id representing the number of opportunities in increasing order\n",
    "    xs = sorted(list(set(x)))\n",
    "\n",
    "    # Supporting lists to store the:\n",
    "    # - xv: integer identifier of the number of opportunities\n",
    "    # - yv: average value across students at that number of opportunities\n",
    "    # - lcb and ucb: lower and upper confidence bound\n",
    "    # - n_obs: number of observartions present at that number of opportunities (on per-skill plots, it is the #students)\n",
    "    xv, yv, lcb, ucb, n_obs = [], [], [], [], []\n",
    "\n",
    "    # For each integer identifier of the number of opportunities 0, ...\n",
    "    for v in xs:\n",
    "        ys = [y[i] for i, e in enumerate(x) if e == v] # We retrieve the values for that integer identifier\n",
    "        if len(ys) > 0: \n",
    "            xv.append(v) # Append the integer identifier of the number of opportunities\n",
    "            yv.append(sum(ys) / len(ys)) # Append the average value across students at that number of opportunities\n",
    "            n_obs.append(len(ys)) # Append the number of observartions present at that number of opportunities\n",
    "\n",
    "            \n",
    "            # Prepare data for confidence interval computation\n",
    "            unique, counts = np.unique(ys, return_counts=True)\n",
    "            counts = dict(zip(unique, counts))\n",
    "\n",
    "            if 0 not in counts:\n",
    "                counts[0] = 0\n",
    "            if 1 not in counts:\n",
    "                counts[1] = 0\n",
    "\n",
    "            # Calculate the 95% confidence intervals\n",
    "            ci = sc.stats.beta.interval(0.95, 0.5 + counts[0], 0.5 + counts[1])\n",
    "            lcb.append(ci[0])\n",
    "            ucb.append(ci[1])\n",
    "\n",
    "    return xv, yv, lcb, ucb, n_obs"
   ]
  },
  {
   "cell_type": "markdown",
   "id": "f1c5b893-ab49-4d29-b725-5c8975f5e638",
   "metadata": {},
   "source": [
    "Then, we create a function for plotting learning curve and a bar chart with the number of students per opportunity for a given skill."
   ]
  },
  {
   "cell_type": "code",
   "execution_count": 9,
   "id": "47e477e9-9792-4561-b557-58a38182fc8f",
   "metadata": {},
   "outputs": [],
   "source": [
    "def plot_learning_curve(skill_name):\n",
    "    '''\n",
    "    Plot learning curve using BKT model for skill `skill_name`. \n",
    "    '''\n",
    "    preds = predictions[predictions['skill_name'] == skill_name] # Retrieve predictions for the current skill\n",
    "\n",
    "    xp = []\n",
    "    yp = {}\n",
    "    for col in preds.columns: # For y_true and and y_pred_bkt columns, initialize an empty list for curve values\n",
    "        if 'y_' in col:\n",
    "            yp[col] = []\n",
    "\n",
    "    for user_id in preds['user_id'].unique(): # For each user\n",
    "        user_preds = preds[preds['user_id'] == user_id] # Retrieve the predictions on the current skill for this user \n",
    "        xp += list(np.arange(len(user_preds))) # The x-axis values go from 0 to |n_opportunities|-1\n",
    "        for col in preds.columns: \n",
    "            if 'y_' in col: # For y_true and and y_pred_bkt columns\n",
    "                yp[col] += user_preds[col].tolist() # The y-axis value is the success rate for this user at that opportunity\n",
    "\n",
    "    fig, axs = plt.subplots(2, 1, gridspec_kw={'height_ratios': [3, 2]}) # Initialize the plotting figure\n",
    "\n",
    "    lines = []\n",
    "    for col in preds.columns:\n",
    "        if 'y_' in col: # For y_true and and y_pred_bkt columns   \n",
    "            x, y, lcb, ucb, n_obs = avg_y_by_x(xp, yp[col]) # Calculate mean and 95% confidence intervals for success rate \n",
    "            y = [1-v for v in y] # Transform success rate in error rate\n",
    "            if col == 'y_true': # In case of ground-truth data, we also show the confidence intervals\n",
    "                axs[0].fill_between(x, lcb, ucb, alpha=.1)\n",
    "            model_line, = axs[0].plot(x, y, label=col) # Plot the curve\n",
    "            lines.append(model_line) # Store the line to then set the legend    \n",
    "\n",
    "    # Make decorations for the learning curve plot\n",
    "    axs[0].set_title(skill_name)\n",
    "    axs[0].legend(handles=lines)\n",
    "    axs[0].set_ylabel('Error')\n",
    "    axs[0].set_ylim(0, 1)\n",
    "    axs[0].set_xlim(0, None)\n",
    "\n",
    "    # Plot the number of observations per number of opportunities bars and make decorations\n",
    "    axs[1].set_xlabel('#Opportunities')\n",
    "    axs[1].bar([i for i in range(len(n_obs))], n_obs)\n",
    "    axs[1].set_ylabel('#Observations')\n",
    "    axs[1].set_ylim(0, 750)\n",
    "    axs[1].set_xlim(0, None)\n",
    "\n",
    "    # Plot the learning curve and the bar plot \n",
    "    plt.show()"
   ]
  },
  {
   "cell_type": "markdown",
   "id": "5a4956e3-db20-4f8c-8180-536aded0dc52",
   "metadata": {},
   "source": [
    "Finally, we display and interpret the learning curves for the six selected skills."
   ]
  },
  {
   "cell_type": "code",
   "execution_count": 10,
   "id": "18f463a4-62fe-453e-978b-f824660a0a12",
   "metadata": {},
   "outputs": [
    {
     "data": {
      "image/png": "[encoded data removed]",
      "text/plain": [
       "<Figure size 432x288 with 2 Axes>"
      ]
     },
     "metadata": {
      "needs_background": "light"
     },
     "output_type": "display_data"
    },
    {
     "data": {
      "image/png": "[encoded data removed]",
      "text/plain": [
       "<Figure size 432x288 with 2 Axes>"
      ]
     },
     "metadata": {
      "needs_background": "light"
     },
     "output_type": "display_data"
    },
    {
     "data": {
      "image/png": "[encoded data removed]",
      "text/plain": [
       "<Figure size 432x288 with 2 Axes>"
      ]
     },
     "metadata": {
      "needs_background": "light"
     },
     "output_type": "display_data"
    }
   ],
   "source": [
    "for skill_name in skills_subset[:3]: # For the first three skills under consideration\n",
    "    plot_learning_curve(skill_name)"
   ]
  },
  {
   "cell_type": "markdown",
   "id": "db068225",
   "metadata": {},
   "source": [
    "We first discuss the first three skills separately. Then, given that we are showing the same aspects for the six skills, we provide few more observations aimed at comparing the findings we obtained across the skills under consideration. \n",
    "\n",
    "- \"**Circle Graph**\". From the error rate in the ground-truth data (y_true, blue), it can be observed that this skill appears quite hard for students, with an initial error rate of around 0.60 in the first opportunity. The error rate goes slightly down, as we would usually expect, as much as the students play with the skill, reaching the lowest error rate of 0.38 at around 7 opportunities. However, starting from #opportunities around equal to 7, the error rate starts going up till 0.80 after 50 opportunities. It seems that a large part of the students managed to master a bit this skill in the first opportunities, but then they start facing difficulties in mastering it. This behavior might be due to the fact that the skill is ill-defined or that the problems become too difficult or are not aligned well with the skill.  After 50 opportunities, the error rate starts jumping between 0 and a 1 just because there are only few students. In terms of confidence interval (blue area), it can be observed that the error rate is quite stable at the earlier stage. Starting from around 7 opportunities, the error rate is less stable probably due to the same reasons we provided above. The confidence interval finally becomes large when only few students keep playing with this skill for a higher number of opportunities. When it comes to consider the error rate obtained by the BKT model estimations (y_pred_bkt, orange), it can be observed that the model tends to overestimate a bit the error rate during the first opportunities (the orange line is above the blue one, the model tends to predict more errors than expected), while the opposite pattern is observed for higher numbers of opportunities (the model tends to predict less errors than expected). However, in general, the model fits well the ground-truth data. Looking at the bar plot at the bottom, students appear reasonably engaged with this skill only for few opportunities (particularly, starting from 35 opportunities, the number of involved students is low, and the error rate starts jumping more).            \n",
    "\n",
    "\n",
    "- \"**Venn Diagram**\". This third skill appears like another somehow easy skill since the beginning (y_true, blue), but a bit more harder than \"Mode\". Except for a few fluctuations in the very first opportunities (where the curve slightly increases, maybe because they are just the first opportunities or due to the type/difficulty of problems proposed at that point), the error rate goes down till around 0.08, reached at around 100 opportunities. Probably, once only those students struggling more with this skill tend to stay for a higher number of opportunities, the error rate goes up again. The confidence interval for the ground-truth data (blue area) is relatively high (if compared with the one observed for the other two skills during the first opportunities). Naturally, it increases even more when the number of students reaching that number of opportunities is very low (#opportunities > 130). Comparing the ground-truth estimations with the BKT estimations (y_pred_bkt, orange), except for the first opportunities, it can be observed that BKT tends to consistently underestimate the error rate and the BKT error rate is often outside the confidence interval of actual data. The number of students per opportunity naturally goes down as observed for the other skills, but interestingly it can be observed that a set of students seems to still keep playing with this skill from around 30 opportunites till 100 opportunities stably (the bar plot values appear somehow similar in that range).  \n",
    "\n",
    "\n",
    "- \"**Mode**\". Based on the patterns of the ground-truth data (y_true, blue), the error rate observed for this skill at the earlier stages is of around 0.20. The students thus are already good in problems involving this skill, somehow. While this might depend on the intrinsic knowledge/background of the students about this skill, this behavior might also appear due to the fact that the skill is easier and easier to master in general or that the problems presented to the students on that skill are too easy, for instance. While the error rate goes slightly down when the number of opportunities increases, the difference between the initial error rate and the error rate experienced (for instance) after 5 or 6 opportunities is relatively small (around 0.10 of error rate in the latter case). This observation might be justified by the fact that students played with the skill only for few opportunities (so there is no so much room for improving more) and by the already low initial error rate (students might use those opportunities just to refine their knowledge, with few errors still happening). The going-up behavior at the end appears mainly due to the very low number of students involved at that point. The blue area shows us that the confidence interval is very small for the first three or four opportunities (so behavior is more consistent among students), while it starts increasing later probably also due to the peculiar patterns behind students who interact more with this skill. The BKT model (y_pred_bkt, orange) is able to fit the ground-truth data very well across the number of opportunities, especially till around 8 opportunities. One important observation comes from the bar plot, which shows that the number of students involved in this skill drastically goes down especially after three/four opportunities. \n",
    "\n",
    "\n",
    "Overall, comparing the first three skills, \"Circle Graph\" seems to be really going up (e.g., ill-defined skill or due to the type/difficulty of problems), while, for \"Mode\" and \"Venn Diagram\", the going up later seems to come only from the very low number of students. Especially but not only for the \"Venn Diagram\" skill, the BKT generally tends to under-estimate the error rate. One reason behind this observation could be that the BKT model we adopted did not consider forgetting, for instance. In terms of number of opportunities, students experienced a lower maximum number of opportunities on the \"Mode\" skill, compared to the others. Compared to \"Circle Graph\", the skill \"Venn Diagram\" seems to involve lots of students even for higher number of opportunities (e.g., #opportunities > 30). "
   ]
  },
  {
   "cell_type": "code",
   "execution_count": 11,
   "id": "fdee5af4",
   "metadata": {},
   "outputs": [
    {
     "data": {
      "image/png": "[encoded data removed]",
      "text/plain": [
       "<Figure size 432x288 with 2 Axes>"
      ]
     },
     "metadata": {
      "needs_background": "light"
     },
     "output_type": "display_data"
    },
    {
     "data": {
      "image/png": "[encoded data removed]",
      "text/plain": [
       "<Figure size 432x288 with 2 Axes>"
      ]
     },
     "metadata": {
      "needs_background": "light"
     },
     "output_type": "display_data"
    },
    {
     "data": {
      "image/png": "[encoded data removed]",
      "text/plain": [
       "<Figure size 432x288 with 2 Axes>"
      ]
     },
     "metadata": {
      "needs_background": "light"
     },
     "output_type": "display_data"
    }
   ],
   "source": [
    "for skill_name in skills_subset[3:]: # For the remaining three skills under consideration    \n",
    "    plot_learning_curve(skill_name)"
   ]
  },
  {
   "cell_type": "markdown",
   "id": "6d2f9714-7b20-440a-92bf-e2c492495c0e",
   "metadata": {},
   "source": [
    "We briefly discuss the remaining three learning curves. \n",
    "\n",
    "- \"**Division Fractions**\". With a 40% error rate in the ground truth curve (y_true, blue), we can see that this skill is generally moderately difficult for students (not very easy, but the majority of the students correctly solve the problem on the first attempt). The error rate decreases slightly with no major jumps as the number of opportunities increases, which means that 1) the problems in the skill are close to equally difficult and 2) more opportunities leads to students improving on the problem (lower error rate). The y_pred_bkt learning curve (orange) for this skill is close to straight and slightly downward trending from 40% to 20%, which shows that students improve on the problem the more attempts that are made. However, the BKT model fails to capture the 0% error rate at 30 opportunities, likely due to the few number of data points around 25/30 observations.\n",
    "\n",
    "\n",
    "- \"**Finding Percents**\". We identify that this skill is difficult for the majority of students because 60% of students do not pass this problem on the first try. We see a downwards curve in error rate in the ground truth and BKT predictions from 0 to 20 opportunities, where the error drops from 60% to 40%. However, after that, we see a steading increase until 50 opportunties, which shows that if a student has over 20 opportunities in this skill, they are not likely to pass it even until 50 opportunities -- more opportunities does not help. We note very odd behavior of the learning curves between 50 and 80, which can be directly attributed to a small number of observational data points (examining the bottom bar plot).\n",
    "\n",
    "\n",
    "- \"**Area Rectangle**\". Students find the problems in this skill very easy to solve, with an initial error rate of 20% across both the ground truth and the BKT predictive curves, and steadily dropping overall. One interesting trend is between 0 to 60 opportunities, we do not see a notable decrease in error rate, which leads us to say that up to the 50 first opportunities do not make a significant difference in average student's aptitude on the skill. Between 60 and 100, we see a notable drop to an error rate of 10% and then another step, where the difference between 60 and 100 opportunities does not change the error rate. Around 125 opportunities, the error rate flatlines to a very small percentage, showing that most students have mastered the skill. This step-wise learning curve could be indicative of a quirk in the curriculum, and we would recommend further analysis of the problem distribution to understand why this appears. It is notable that the prediction learning curve (orange) fails to capture the peaks in student learning rate between 175 and 300, likely due to the low numbers of opportunities.\n",
    "\n",
    "\n",
    "Examining all 6 skills, we see that Circle Graphs and Finding Percents have similar behavior as difficult problems, Venn Diagram and Area Rectangle have similar behavior as easier problems, and the remaining two skills have unique patterns."
   ]
  },
  {
   "cell_type": "markdown",
   "id": "ca629369-e82e-4f59-a086-d07c3e63351c",
   "metadata": {},
   "source": [
    "## Additive Factors Model (AFM) and Performance Factors Analysis (PFA)"
   ]
  },
  {
   "cell_type": "markdown",
   "id": "8340908f-22c1-4e1f-a631-ff12be331ec0",
   "metadata": {},
   "source": [
    "The AFM and PFA models are both based on logistic regression and item response theory (IRT). Specifically, they compute the probability that a student will solve a task correctly based on the number of previous attempts the student had at the corresponding skill (in case of AFM) and based on the correct and wrong attempts at the corresponding skill (in case of PFA), respectively. We therefore first preprocess the data to compute these variables. For demonstration purposes, we will continue on the small subset of the data set containing six skills."
   ]
  },
  {
   "cell_type": "code",
   "execution_count": 12,
   "id": "41a25b8d-1acb-4d7c-bc44-45319a193a81",
   "metadata": {},
   "outputs": [
    {
     "data": {
      "text/html": [
       "<div>\n",
       "<style scoped>\n",
       "    .dataframe tbody tr th:only-of-type {\n",
       "        vertical-align: middle;\n",
       "    }\n",
       "\n",
       "    .dataframe tbody tr th {\n",
       "        vertical-align: top;\n",
       "    }\n",
       "\n",
       "    .dataframe thead th {\n",
       "        text-align: right;\n",
       "    }\n",
       "</style>\n",
       "<table border=\"1\" class=\"dataframe\">\n",
       "  <thead>\n",
       "    <tr style=\"text-align: right;\">\n",
       "      <th></th>\n",
       "      <th>user_id</th>\n",
       "      <th>order_id</th>\n",
       "      <th>skill_name</th>\n",
       "      <th>correct</th>\n",
       "      <th>correct_predictions</th>\n",
       "      <th>state_predictions</th>\n",
       "      <th>aux</th>\n",
       "      <th>prev_attempts</th>\n",
       "      <th>correct_aux</th>\n",
       "      <th>before_correct_num</th>\n",
       "      <th>before_wrong_num</th>\n",
       "    </tr>\n",
       "  </thead>\n",
       "  <tbody>\n",
       "    <tr>\n",
       "      <th>3957</th>\n",
       "      <td>14</td>\n",
       "      <td>21617623</td>\n",
       "      <td>Circle Graph</td>\n",
       "      <td>0</td>\n",
       "      <td>0.45844</td>\n",
       "      <td>0.55311</td>\n",
       "      <td>1</td>\n",
       "      <td>0</td>\n",
       "      <td>0</td>\n",
       "      <td>0</td>\n",
       "      <td>0</td>\n",
       "    </tr>\n",
       "    <tr>\n",
       "      <th>3958</th>\n",
       "      <td>14</td>\n",
       "      <td>21617632</td>\n",
       "      <td>Circle Graph</td>\n",
       "      <td>1</td>\n",
       "      <td>0.33284</td>\n",
       "      <td>0.33380</td>\n",
       "      <td>1</td>\n",
       "      <td>1</td>\n",
       "      <td>1</td>\n",
       "      <td>0</td>\n",
       "      <td>1</td>\n",
       "    </tr>\n",
       "    <tr>\n",
       "      <th>3959</th>\n",
       "      <td>14</td>\n",
       "      <td>21617641</td>\n",
       "      <td>Circle Graph</td>\n",
       "      <td>0</td>\n",
       "      <td>0.56162</td>\n",
       "      <td>0.73328</td>\n",
       "      <td>1</td>\n",
       "      <td>2</td>\n",
       "      <td>1</td>\n",
       "      <td>1</td>\n",
       "      <td>1</td>\n",
       "    </tr>\n",
       "    <tr>\n",
       "      <th>3960</th>\n",
       "      <td>14</td>\n",
       "      <td>21617650</td>\n",
       "      <td>Circle Graph</td>\n",
       "      <td>0</td>\n",
       "      <td>0.43306</td>\n",
       "      <td>0.50880</td>\n",
       "      <td>1</td>\n",
       "      <td>3</td>\n",
       "      <td>1</td>\n",
       "      <td>1</td>\n",
       "      <td>2</td>\n",
       "    </tr>\n",
       "    <tr>\n",
       "      <th>3961</th>\n",
       "      <td>14</td>\n",
       "      <td>21617659</td>\n",
       "      <td>Circle Graph</td>\n",
       "      <td>0</td>\n",
       "      <td>0.31378</td>\n",
       "      <td>0.30052</td>\n",
       "      <td>1</td>\n",
       "      <td>4</td>\n",
       "      <td>1</td>\n",
       "      <td>1</td>\n",
       "      <td>3</td>\n",
       "    </tr>\n",
       "  </tbody>\n",
       "</table>\n",
       "</div>"
      ],
      "text/plain": [
       "      user_id  order_id    skill_name  correct  correct_predictions  \\\n",
       "3957       14  21617623  Circle Graph        0              0.45844   \n",
       "3958       14  21617632  Circle Graph        1              0.33284   \n",
       "3959       14  21617641  Circle Graph        0              0.56162   \n",
       "3960       14  21617650  Circle Graph        0              0.43306   \n",
       "3961       14  21617659  Circle Graph        0              0.31378   \n",
       "\n",
       "      state_predictions  aux  prev_attempts  correct_aux  before_correct_num  \\\n",
       "3957            0.55311    1              0            0                   0   \n",
       "3958            0.33380    1              1            1                   0   \n",
       "3959            0.73328    1              2            1                   1   \n",
       "3960            0.50880    1              3            1                   1   \n",
       "3961            0.30052    1              4            1                   1   \n",
       "\n",
       "      before_wrong_num  \n",
       "3957                 0  \n",
       "3958                 1  \n",
       "3959                 1  \n",
       "3960                 2  \n",
       "3961                 3  "
      ]
     },
     "execution_count": 12,
     "metadata": {},
     "output_type": "execute_result"
    }
   ],
   "source": [
    "# Data processing\n",
    "# Number of attempts before current\n",
    "def preprocess_data(data):\n",
    "    data['aux'] = 1\n",
    "    data['prev_attempts'] = data.sort_values('order_id').groupby(['user_id', 'skill_name'])['aux'].cumsum() -1\n",
    "\n",
    "    # Number of correct and incorrect attempts before current attempt\n",
    "    data['correct_aux'] = data.sort_values('order_id').groupby(['user_id', 'skill_name'])['correct'].cumsum()\n",
    "    data['before_correct_num'] = data.sort_values('order_id').groupby(['user_id', 'skill_name'])['correct_aux'].shift(periods=1, fill_value=0)\n",
    "    data['before_wrong_num'] = data['prev_attempts'] - data['before_correct_num']\n",
    "    return data\n",
    "\n",
    "data = preprocess_data(data)\n",
    "data.head()"
   ]
  },
  {
   "cell_type": "markdown",
   "id": "2d1ebc58-9d11-4aae-bd8c-bd514c8d8ded",
   "metadata": {},
   "source": [
    "Next, we split the data into a training and a test data set."
   ]
  },
  {
   "cell_type": "code",
   "execution_count": 13,
   "id": "489c1ff6-e1c0-406a-ada9-c9408a88a38a",
   "metadata": {},
   "outputs": [],
   "source": [
    "# Obtain indexes\n",
    "train_index, test_index = next(create_iterator(data))\n",
    "# Split the data\n",
    "X_train, X_test = data.iloc[train_index], data.iloc[test_index]"
   ]
  },
  {
   "cell_type": "markdown",
   "id": "3c1c9fe3-b53b-4d4e-ab63-42ed014062c2",
   "metadata": {},
   "source": [
    "Next, we fit an AFM model to the training data and predict on the test data. Note that the implementation below only works for a one-to-one correspondance of task and skill, i.e. when a task is associated to exactly one skill. In case of a data set containing tasks with multiple skills, we would need to use the [pyAFM](https://github.com/cmaclell/pyAFM) package. A tutorial on using pyAFM can be found [here](https://github.com/epfl-ml4ed/mlbd-2021/tree/main/Tutorials/Tutorial06/Tutorial06)."
   ]
  },
  {
   "cell_type": "code",
   "execution_count": 14,
   "id": "4dc29981-4a6d-4678-9a4c-f9dca55432c3",
   "metadata": {},
   "outputs": [
    {
     "name": "stdout",
     "output_type": "stream",
     "text": [
      "Formula: correct~(1|user_id)+(1|skill_name)+(0+prev_attempts|skill_name)\n",
      "\n",
      "Family: binomial\t Inference: parametric\n",
      "\n",
      "Number of observations: 40258\t Groups: {'user_id': 1221.0, 'skill_name': 6.0}\n",
      "\n",
      "Log-likelihood: -16797.782 \t AIC: 33603.565\n",
      "\n",
      "Random effects:\n",
      "\n",
      "                       Name     Var     Std\n",
      "user_id         (Intercept) 2.56000 1.60000\n",
      "skill_name      (Intercept) 0.68300 0.82700\n",
      "skill_name.1  prev_attempts 0.00500 0.06900\n",
      "\n",
      "No random effect correlations specified\n",
      "\n",
      "Fixed effects:\n",
      "\n",
      "CPU times: user 23.3 s, sys: 328 ms, total: 23.7 s\n",
      "Wall time: 23.8 s\n"
     ]
    },
    {
     "data": {
      "text/html": [
       "<div>\n",
       "<style scoped>\n",
       "    .dataframe tbody tr th:only-of-type {\n",
       "        vertical-align: middle;\n",
       "    }\n",
       "\n",
       "    .dataframe tbody tr th {\n",
       "        vertical-align: top;\n",
       "    }\n",
       "\n",
       "    .dataframe thead th {\n",
       "        text-align: right;\n",
       "    }\n",
       "</style>\n",
       "<table border=\"1\" class=\"dataframe\">\n",
       "  <thead>\n",
       "    <tr style=\"text-align: right;\">\n",
       "      <th></th>\n",
       "      <th>user_id</th>\n",
       "      <th>order_id</th>\n",
       "      <th>skill_name</th>\n",
       "      <th>correct</th>\n",
       "      <th>correct_predictions</th>\n",
       "      <th>state_predictions</th>\n",
       "      <th>aux</th>\n",
       "      <th>prev_attempts</th>\n",
       "      <th>correct_aux</th>\n",
       "      <th>before_correct_num</th>\n",
       "      <th>before_wrong_num</th>\n",
       "      <th>afm_predictions</th>\n",
       "    </tr>\n",
       "  </thead>\n",
       "  <tbody>\n",
       "    <tr>\n",
       "      <th>53382</th>\n",
       "      <td>53167</td>\n",
       "      <td>26451283</td>\n",
       "      <td>Mode</td>\n",
       "      <td>1</td>\n",
       "      <td>0.83794</td>\n",
       "      <td>0.88672</td>\n",
       "      <td>1</td>\n",
       "      <td>0</td>\n",
       "      <td>1</td>\n",
       "      <td>0</td>\n",
       "      <td>0</td>\n",
       "      <td>0.85507</td>\n",
       "    </tr>\n",
       "    <tr>\n",
       "      <th>53383</th>\n",
       "      <td>53167</td>\n",
       "      <td>26451302</td>\n",
       "      <td>Mode</td>\n",
       "      <td>1</td>\n",
       "      <td>0.93010</td>\n",
       "      <td>0.99338</td>\n",
       "      <td>1</td>\n",
       "      <td>1</td>\n",
       "      <td>2</td>\n",
       "      <td>1</td>\n",
       "      <td>0</td>\n",
       "      <td>0.86928</td>\n",
       "    </tr>\n",
       "    <tr>\n",
       "      <th>157253</th>\n",
       "      <td>53167</td>\n",
       "      <td>32517498</td>\n",
       "      <td>Division Fractions</td>\n",
       "      <td>0</td>\n",
       "      <td>0.60418</td>\n",
       "      <td>0.70872</td>\n",
       "      <td>1</td>\n",
       "      <td>0</td>\n",
       "      <td>0</td>\n",
       "      <td>0</td>\n",
       "      <td>0</td>\n",
       "      <td>0.62272</td>\n",
       "    </tr>\n",
       "    <tr>\n",
       "      <th>157254</th>\n",
       "      <td>53167</td>\n",
       "      <td>32517627</td>\n",
       "      <td>Division Fractions</td>\n",
       "      <td>1</td>\n",
       "      <td>0.43525</td>\n",
       "      <td>0.46889</td>\n",
       "      <td>1</td>\n",
       "      <td>1</td>\n",
       "      <td>1</td>\n",
       "      <td>0</td>\n",
       "      <td>1</td>\n",
       "      <td>0.64312</td>\n",
       "    </tr>\n",
       "    <tr>\n",
       "      <th>157255</th>\n",
       "      <td>53167</td>\n",
       "      <td>32517648</td>\n",
       "      <td>Division Fractions</td>\n",
       "      <td>1</td>\n",
       "      <td>0.73660</td>\n",
       "      <td>0.89671</td>\n",
       "      <td>1</td>\n",
       "      <td>2</td>\n",
       "      <td>2</td>\n",
       "      <td>1</td>\n",
       "      <td>1</td>\n",
       "      <td>0.66302</td>\n",
       "    </tr>\n",
       "  </tbody>\n",
       "</table>\n",
       "</div>"
      ],
      "text/plain": [
       "        user_id  order_id          skill_name  correct  correct_predictions  \\\n",
       "53382     53167  26451283                Mode        1              0.83794   \n",
       "53383     53167  26451302                Mode        1              0.93010   \n",
       "157253    53167  32517498  Division Fractions        0              0.60418   \n",
       "157254    53167  32517627  Division Fractions        1              0.43525   \n",
       "157255    53167  32517648  Division Fractions        1              0.73660   \n",
       "\n",
       "        state_predictions  aux  prev_attempts  correct_aux  \\\n",
       "53382             0.88672    1              0            1   \n",
       "53383             0.99338    1              1            2   \n",
       "157253            0.70872    1              0            0   \n",
       "157254            0.46889    1              1            1   \n",
       "157255            0.89671    1              2            2   \n",
       "\n",
       "        before_correct_num  before_wrong_num  afm_predictions  \n",
       "53382                    0                 0          0.85507  \n",
       "53383                    1                 0          0.86928  \n",
       "157253                   0                 0          0.62272  \n",
       "157254                   0                 1          0.64312  \n",
       "157255                   1                 1          0.66302  "
      ]
     },
     "execution_count": 14,
     "metadata": {},
     "output_type": "execute_result"
    }
   ],
   "source": [
    "# Initialize and fit the model\n",
    "model = Lmer(\"correct ~ (1|user_id) + (1|skill_name) + (0 + prev_attempts|skill_name)\", data=X_train, family='binomial')\n",
    "%time model.fit() \n",
    "# Compute predictions\n",
    "X_test['afm_predictions'] = model.predict(data=X_test, verify_predictions=False)\n",
    "X_test.head()"
   ]
  },
  {
   "cell_type": "markdown",
   "id": "9b82b454-64f2-4d89-bfe4-1b702abf37c1",
   "metadata": {},
   "source": [
    "Next, we will plot the performance metrics (RMSE and AUC) for the model."
   ]
  },
  {
   "cell_type": "code",
   "execution_count": 15,
   "id": "439938f4-8f1a-4f23-9b87-89f1c8b65679",
   "metadata": {},
   "outputs": [],
   "source": [
    "def plot_metrics(df_preds, model):\n",
    "\n",
    "    # Compute RMSE and AUC per skill\n",
    "    skill_rmse = df_preds.groupby(['skill_name']).apply(lambda df_preds: mean_squared_error(df_preds.correct, df_preds[model], squared=False))\n",
    "    print('RMSE', np.mean(skill_rmse), np.std(skill_rmse))\n",
    "\n",
    "    skill_auc = df_preds.groupby(['skill_name']).apply(lambda df_preds: roc_auc_score(df_preds.correct, df_preds[model]))\n",
    "    print('AUC', np.mean(skill_auc), np.std(skill_auc))\n",
    "\n",
    "    # Create overall RMSE and RMSE per skill data frames\n",
    "    skills_all = ['Skills']*len(skills_subset)\n",
    "    df_overall_rmse = pd.DataFrame(list(zip(skills_all, skill_rmse)),\n",
    "                   columns =['x', 'RMSE'])\n",
    "    df_skill_rmse = pd.DataFrame(list(zip(skills_subset, skill_rmse)),\n",
    "                   columns =['x', 'RMSE'])\n",
    "\n",
    "    # Create overall AUC and AUC per skill data frames\n",
    "    df_overall_auc = pd.DataFrame(list(zip(skills_all, skill_auc)),\n",
    "                   columns =['x', 'AUC'])\n",
    "    df_skill_auc = pd.DataFrame(list(zip(skills_subset, skill_auc)),\n",
    "                   columns =['x', 'AUC'])\n",
    "\n",
    "    # Two bar plots for RMSE: first one with std (mean RMSE over all skills), then one bar plot with a bar for each specific skill\n",
    "    fig, axes = plt.subplots(1, 2, figsize=(10,5))\n",
    "    sns.barplot(ax=axes[0],x='x', y='RMSE', data=df_overall_rmse, estimator=np.mean, ci='sd')\n",
    "    axes[0].set_title('Overall RMSE')\n",
    "    axes[0].set_xlabel('')\n",
    "\n",
    "    sns.barplot(ax=axes[1],x='x', y='RMSE', data=df_skill_rmse, estimator=np.mean, ci='sd')\n",
    "    plt.xticks(rotation=90)\n",
    "    axes[1].set_title('RMSE across skills')\n",
    "    axes[1].set_xlabel('')\n",
    "\n",
    "    fig.show()\n",
    "\n",
    "    # Two bar plots for AUC: first one with std (mean AUC over all skills), then one bar plot with a bar for each specific skill\n",
    "    fig, axes = plt.subplots(1, 2, figsize=(10,5))\n",
    "    sns.barplot(ax=axes[0],x='x', y='AUC', data=df_overall_auc, estimator=np.mean, ci='sd')\n",
    "    axes[0].set_title('Overall AUC')\n",
    "    axes[0].set_xlabel('')\n",
    "\n",
    "    sns.barplot(ax=axes[1],x='x', y='AUC', data=df_skill_auc, estimator=np.mean, ci='sd')\n",
    "    plt.xticks(rotation=90)\n",
    "    axes[1].set_title('AUC across skills')\n",
    "    axes[1].set_xlabel('')\n",
    "\n",
    "    fig.show()"
   ]
  },
  {
   "cell_type": "code",
   "execution_count": 16,
   "id": "6d1946b5-fbcd-46c8-918f-ca5c101aa075",
   "metadata": {},
   "outputs": [
    {
     "name": "stdout",
     "output_type": "stream",
     "text": [
      "RMSE 0.4187859255245854 0.06896549256825907\n",
      "AUC 0.6051593380658353 0.06187187963009105\n"
     ]
    },
    {
     "data": {
      "image/png": "[encoded data removed]",
      "text/plain": [
       "<Figure size 720x360 with 2 Axes>"
      ]
     },
     "metadata": {
      "needs_background": "light"
     },
     "output_type": "display_data"
    },
    {
     "data": {
      "image/png": "[encoded data removed]",
      "text/plain": [
       "<Figure size 720x360 with 2 Axes>"
      ]
     },
     "metadata": {
      "needs_background": "light"
     },
     "output_type": "display_data"
    }
   ],
   "source": [
    "plot_metrics(X_test, 'afm_predictions')"
   ]
  },
  {
   "cell_type": "markdown",
   "id": "e366f2dc-7e39-475c-b609-06684c8516e6",
   "metadata": {},
   "source": [
    "Similar to last week, we observe that the RMSE and AUC are dependent on the skill, i.e. performance varies a lot across skills."
   ]
  },
  {
   "cell_type": "markdown",
   "id": "857fc582-3635-4177-9570-d6ac55af27df",
   "metadata": {},
   "source": [
    "Next, we fit a PFA model to the data. Again, this implementation works for one-to-one correspondance and tasks with multiple skills would require the use of [pyAFM](https://github.com/cmaclell/pyAFM)."
   ]
  },
  {
   "cell_type": "code",
   "execution_count": 17,
   "id": "f99b111e-0433-4abe-a717-34149538b64c",
   "metadata": {},
   "outputs": [
    {
     "name": "stdout",
     "output_type": "stream",
     "text": [
      "Formula: correct~(1|user_id)+(1|skill_name)+(0+before_correct_num|skill_name)+(0+before_wrong_num|skill_name)\n",
      "\n",
      "Family: binomial\t Inference: parametric\n",
      "\n",
      "Number of observations: 40258\t Groups: {'user_id': 1221.0, 'skill_name': 6.0}\n",
      "\n",
      "Log-likelihood: -16385.969 \t AIC: 32781.939\n",
      "\n",
      "Random effects:\n",
      "\n",
      "                            Name     Var     Std\n",
      "user_id              (Intercept) 1.74800 1.32200\n",
      "skill_name           (Intercept) 0.69900 0.83600\n",
      "skill_name.1  before_correct_num 0.02600 0.16200\n",
      "skill_name.2    before_wrong_num 0.00000 0.01000\n",
      "\n",
      "No random effect correlations specified\n",
      "\n",
      "Fixed effects:\n",
      "\n",
      "CPU times: user 1min 13s, sys: 169 ms, total: 1min 14s\n",
      "Wall time: 1min 57s\n"
     ]
    },
    {
     "data": {
      "text/html": [
       "<div>\n",
       "<style scoped>\n",
       "    .dataframe tbody tr th:only-of-type {\n",
       "        vertical-align: middle;\n",
       "    }\n",
       "\n",
       "    .dataframe tbody tr th {\n",
       "        vertical-align: top;\n",
       "    }\n",
       "\n",
       "    .dataframe thead th {\n",
       "        text-align: right;\n",
       "    }\n",
       "</style>\n",
       "<table border=\"1\" class=\"dataframe\">\n",
       "  <thead>\n",
       "    <tr style=\"text-align: right;\">\n",
       "      <th></th>\n",
       "      <th>user_id</th>\n",
       "      <th>order_id</th>\n",
       "      <th>skill_name</th>\n",
       "      <th>correct</th>\n",
       "      <th>correct_predictions</th>\n",
       "      <th>state_predictions</th>\n",
       "      <th>aux</th>\n",
       "      <th>prev_attempts</th>\n",
       "      <th>correct_aux</th>\n",
       "      <th>before_correct_num</th>\n",
       "      <th>before_wrong_num</th>\n",
       "      <th>afm_predictions</th>\n",
       "      <th>pfa_predictions</th>\n",
       "    </tr>\n",
       "  </thead>\n",
       "  <tbody>\n",
       "    <tr>\n",
       "      <th>53382</th>\n",
       "      <td>53167</td>\n",
       "      <td>26451283</td>\n",
       "      <td>Mode</td>\n",
       "      <td>1</td>\n",
       "      <td>0.83794</td>\n",
       "      <td>0.88672</td>\n",
       "      <td>1</td>\n",
       "      <td>0</td>\n",
       "      <td>1</td>\n",
       "      <td>0</td>\n",
       "      <td>0</td>\n",
       "      <td>0.85507</td>\n",
       "      <td>0.83721</td>\n",
       "    </tr>\n",
       "    <tr>\n",
       "      <th>53383</th>\n",
       "      <td>53167</td>\n",
       "      <td>26451302</td>\n",
       "      <td>Mode</td>\n",
       "      <td>1</td>\n",
       "      <td>0.93010</td>\n",
       "      <td>0.99338</td>\n",
       "      <td>1</td>\n",
       "      <td>1</td>\n",
       "      <td>2</td>\n",
       "      <td>1</td>\n",
       "      <td>0</td>\n",
       "      <td>0.86928</td>\n",
       "      <td>0.87290</td>\n",
       "    </tr>\n",
       "    <tr>\n",
       "      <th>157253</th>\n",
       "      <td>53167</td>\n",
       "      <td>32517498</td>\n",
       "      <td>Division Fractions</td>\n",
       "      <td>0</td>\n",
       "      <td>0.60418</td>\n",
       "      <td>0.70872</td>\n",
       "      <td>1</td>\n",
       "      <td>0</td>\n",
       "      <td>0</td>\n",
       "      <td>0</td>\n",
       "      <td>0</td>\n",
       "      <td>0.62272</td>\n",
       "      <td>0.61971</td>\n",
       "    </tr>\n",
       "    <tr>\n",
       "      <th>157254</th>\n",
       "      <td>53167</td>\n",
       "      <td>32517627</td>\n",
       "      <td>Division Fractions</td>\n",
       "      <td>1</td>\n",
       "      <td>0.43525</td>\n",
       "      <td>0.46889</td>\n",
       "      <td>1</td>\n",
       "      <td>1</td>\n",
       "      <td>1</td>\n",
       "      <td>0</td>\n",
       "      <td>1</td>\n",
       "      <td>0.64312</td>\n",
       "      <td>0.62047</td>\n",
       "    </tr>\n",
       "    <tr>\n",
       "      <th>157255</th>\n",
       "      <td>53167</td>\n",
       "      <td>32517648</td>\n",
       "      <td>Division Fractions</td>\n",
       "      <td>1</td>\n",
       "      <td>0.73660</td>\n",
       "      <td>0.89671</td>\n",
       "      <td>1</td>\n",
       "      <td>2</td>\n",
       "      <td>2</td>\n",
       "      <td>1</td>\n",
       "      <td>1</td>\n",
       "      <td>0.66302</td>\n",
       "      <td>0.65994</td>\n",
       "    </tr>\n",
       "  </tbody>\n",
       "</table>\n",
       "</div>"
      ],
      "text/plain": [
       "        user_id  order_id          skill_name  correct  correct_predictions  \\\n",
       "53382     53167  26451283                Mode        1              0.83794   \n",
       "53383     53167  26451302                Mode        1              0.93010   \n",
       "157253    53167  32517498  Division Fractions        0              0.60418   \n",
       "157254    53167  32517627  Division Fractions        1              0.43525   \n",
       "157255    53167  32517648  Division Fractions        1              0.73660   \n",
       "\n",
       "        state_predictions  aux  prev_attempts  correct_aux  \\\n",
       "53382             0.88672    1              0            1   \n",
       "53383             0.99338    1              1            2   \n",
       "157253            0.70872    1              0            0   \n",
       "157254            0.46889    1              1            1   \n",
       "157255            0.89671    1              2            2   \n",
       "\n",
       "        before_correct_num  before_wrong_num  afm_predictions  pfa_predictions  \n",
       "53382                    0                 0          0.85507          0.83721  \n",
       "53383                    1                 0          0.86928          0.87290  \n",
       "157253                   0                 0          0.62272          0.61971  \n",
       "157254                   0                 1          0.64312          0.62047  \n",
       "157255                   1                 1          0.66302          0.65994  "
      ]
     },
     "execution_count": 17,
     "metadata": {},
     "output_type": "execute_result"
    }
   ],
   "source": [
    "# Initialize and fit the model\n",
    "model = Lmer(\"correct ~ (1|user_id) + (1|skill_name) + (0 + before_correct_num|skill_name) + (0 + before_wrong_num|skill_name)\", data=X_train, family='binomial')\n",
    "%time model.fit() \n",
    "# Compute predictions\n",
    "X_test['pfa_predictions'] = model.predict(data=X_test, verify_predictions=False)\n",
    "X_test.head()"
   ]
  },
  {
   "cell_type": "markdown",
   "id": "89a9b3c3-4e28-428f-b0d0-639651bd8dad",
   "metadata": {},
   "source": [
    "Next, we also plot the performance metrics (RMSE and AUC) for the model."
   ]
  },
  {
   "cell_type": "code",
   "execution_count": 18,
   "id": "867e893f-de0a-4d84-9b29-78402efe9ca8",
   "metadata": {},
   "outputs": [
    {
     "name": "stdout",
     "output_type": "stream",
     "text": [
      "RMSE 0.4017537677522797 0.06679637883720635\n",
      "AUC 0.7263985371288011 0.09235565673977136\n"
     ]
    },
    {
     "data": {
      "image/png": "[encoded data removed]",
      "text/plain": [
       "<Figure size 720x360 with 2 Axes>"
      ]
     },
     "metadata": {
      "needs_background": "light"
     },
     "output_type": "display_data"
    },
    {
     "data": {
      "image/png": "[encoded data removed]",
      "text/plain": [
       "<Figure size 720x360 with 2 Axes>"
      ]
     },
     "metadata": {
      "needs_background": "light"
     },
     "output_type": "display_data"
    }
   ],
   "source": [
    "plot_metrics(X_test, 'pfa_predictions')"
   ]
  },
  {
   "cell_type": "markdown",
   "id": "c452cee5-2690-4771-8125-3e8e6a6fa26b",
   "metadata": {},
   "source": [
    "Again, performance of the model varies across skills. In terms of pattern across the skills, PFA is similar to AFM."
   ]
  },
  {
   "cell_type": "markdown",
   "id": "1c3170fc-04a0-4270-939b-c0a44d602bed",
   "metadata": {},
   "source": [
    "## Deep Knowledge Tracing (DKT)"
   ]
  },
  {
   "cell_type": "markdown",
   "id": "12b566d0-bda1-4a92-943b-5403d16ea291",
   "metadata": {},
   "source": [
    "Knowledge tracing is one of the key research areas for empowering personalized education. It is a task to model students' mastery level of a skill based on their historical learning trajectories. In recent years, a recurrent neural network model called deep knowledge tracing (DKT) has been proposed to handle the knowledge tracing task and literature has shown that DKT generally outperforms traditional methods.\n",
    "\n",
    "Next, we will create and evaluate DKT models on top of a TensorFlow framework. For those who are not familiar with this framework, we recommended to follow the [official tutorials](https://www.tensorflow.org/tutorials/quickstart/beginner). \n",
    "\n",
    "We continue to work with the small subset (six skills of the data). Furthermore, we will continue to use the same train test split as before."
   ]
  },
  {
   "cell_type": "markdown",
   "id": "44cd3fec-1836-45f9-8d6d-3bfe6722c31e",
   "metadata": {},
   "source": [
    "### Data preparation\n",
    "A DKT model is characterized by the following main three components:\n",
    "- **Input**: the one-hot encoded observations at varying time steps. \n",
    "- **Network**: a recurrent neural network that processes the one-hot encoded observations in a time-wise manner. \n",
    "- **Output**: the probabilities for answering skill (or item) correct at the varying time steps.  \n",
    "\n",
    "The first step to enable a DKT experimental pipeline requires to prepare the input and output data to be fed into the model during the training and evaluation phases. TensorFlow has an API, called [TF Dataset](https://www.tensorflow.org/api_docs/python/tf/data/Dataset), that supports writing descriptive and efficient input pipelines. Dataset usage follows a common pattern: (i) create a source dataset from your input data, (ii) apply dataset transformations to preprocess the data, (iii) iterate over the dataset and process the elements. Iteration happens in a streaming fashion, so the full dataset does not need to fit into memory."
   ]
  },
  {
   "cell_type": "code",
   "execution_count": 19,
   "id": "15cdd7c1-648b-4d48-9f11-a154bc1b968a",
   "metadata": {},
   "outputs": [],
   "source": [
    "def prepare_seq(df):\n",
    "    # Step 1 - Enumerate skill id\n",
    "    df['skill'], skill_codes = pd.factorize(df['skill_name'], sort=True)\n",
    "\n",
    "    # Step 2 - Cross skill id with answer to form a synthetic feature\n",
    "    df['skill_with_answer'] = df['skill'] * 2 + df['correct']\n",
    "\n",
    "    # Step 3 - Convert to a sequence per user id and shift features 1 timestep\n",
    "    seq = df.groupby('user_id').apply(lambda r: (r['skill_with_answer'].values[:-1], r['skill'].values[1:], r['correct'].values[1:],))\n",
    "    \n",
    "    # Step 4- Get max skill depth and max feature depth\n",
    "    skill_depth = df['skill'].max() \n",
    "    features_depth = df['skill_with_answer'].max() + 1\n",
    "\n",
    "    return seq, features_depth, skill_depth"
   ]
  },
  {
   "cell_type": "code",
   "execution_count": 20,
   "id": "ea5af72e-0a26-448d-91dc-a2baa983973a",
   "metadata": {},
   "outputs": [],
   "source": [
    "def prepare_data(seq, params, features_depth, skill_depth):\n",
    "    \n",
    "    # Step 1 - Get Tensorflow Dataset\n",
    "    dataset = tf.data.Dataset.from_generator(generator=lambda: seq, output_types=(tf.int32, tf.int32, tf.float32))\n",
    "\n",
    "    # Step 2 - Encode categorical features and merge skills with labels to compute target loss.\n",
    "    dataset = dataset.map(\n",
    "        lambda feat, skill, label: (\n",
    "            tf.one_hot(feat, depth=features_depth),\n",
    "            tf.concat(values=[tf.one_hot(skill, depth=skill_depth), tf.expand_dims(label, -1)], axis=-1)\n",
    "        )\n",
    "    )\n",
    "\n",
    "    # Step 3 - Pad sequences per batch\n",
    "    dataset = dataset.padded_batch(\n",
    "        batch_size=params['batch_size'],\n",
    "        padding_values=(params['mask_value'], params['mask_value']),\n",
    "        padded_shapes=([None, None], [None, None]),\n",
    "        drop_remainder=True\n",
    "    )\n",
    "\n",
    "    return dataset.repeat(), len(seq)"
   ]
  },
  {
   "cell_type": "markdown",
   "id": "c7ee9676-4265-4ebc-a060-3ba499c74e6e",
   "metadata": {},
   "source": [
    "The data needs to be fed into the model in batches. Therefore, we need to specify in advance how many elements per batch our DKT will receive. Furthermore, all sequences should be of the same length in order to be fed into the model. Given that students have different number of opportunities across skills, we need to define a masking value for those entries that are introduced as a padding into the student's sequences."
   ]
  },
  {
   "cell_type": "code",
   "execution_count": 21,
   "id": "2e9f10e7-d6f9-4a89-b996-9d4f62396062",
   "metadata": {},
   "outputs": [],
   "source": [
    "params = {}\n",
    "params['batch_size'] = 32\n",
    "params['mask_value'] = -1.0"
   ]
  },
  {
   "cell_type": "markdown",
   "id": "29fe3457-25d6-4219-b918-e40287049e2a",
   "metadata": {},
   "source": [
    "We are now ready to encode the data and split into a training, validation, and test set."
   ]
  },
  {
   "cell_type": "code",
   "execution_count": 22,
   "id": "4a2e3e61-d8c9-4dab-9a2b-0b0a372534c5",
   "metadata": {
    "tags": []
   },
   "outputs": [
    {
     "name": "stderr",
     "output_type": "stream",
     "text": [
      "2022-04-03 22:51:03.402803: W tensorflow/stream_executor/platform/default/dso_loader.cc:64] Could not load dynamic library 'libcuda.so.1'; dlerror: libcuda.so.1: cannot open shared object file: No such file or directory\n",
      "2022-04-03 22:51:03.402952: W tensorflow/stream_executor/cuda/cuda_driver.cc:269] failed call to cuInit: UNKNOWN ERROR (303)\n",
      "2022-04-03 22:51:03.403019: I tensorflow/stream_executor/cuda/cuda_diagnostics.cc:156] kernel driver does not appear to be running on this host (noto.epfl.ch): /proc/driver/nvidia/version does not exist\n",
      "2022-04-03 22:51:03.404052: I tensorflow/core/platform/cpu_feature_guard.cc:151] This TensorFlow binary is optimized with oneAPI Deep Neural Network Library (oneDNN) to use the following CPU instructions in performance-critical operations:  AVX2 AVX512F FMA\n",
      "To enable them in other operations, rebuild TensorFlow with the appropriate compiler flags.\n"
     ]
    }
   ],
   "source": [
    "# Obtain indexes for necessary validation set\n",
    "train_val_index, val_index = next(create_iterator(X_train))\n",
    "# Split the training data into training and validation\n",
    "X_train_val, X_val = X_train.iloc[train_val_index], X_train.iloc[val_index]\n",
    "\n",
    "seq, features_depth, skill_depth = prepare_seq(data)\n",
    "seq_train = seq[X_train.user_id.unique()]\n",
    "seq_val = seq[X_train_val.user_id.unique()]\n",
    "seq_test = seq[X_test.user_id.unique()]\n",
    "\n",
    "tf_train, length = prepare_data(seq_train, params, features_depth, skill_depth)\n",
    "tf_val, val_length  = prepare_data(seq_val, params, features_depth, skill_depth)\n",
    "tf_test, test_length = prepare_data(seq_test, params, features_depth, skill_depth)\n",
    "\n",
    "params['train_size'] = int(length // params['batch_size'])\n",
    "params['val_size'] = int(val_length // params['batch_size'])\n",
    "params['test_size'] = int(test_length // params['batch_size'])"
   ]
  },
  {
   "cell_type": "markdown",
   "id": "bbe316de-3995-4a84-b6ac-c531430feab3",
   "metadata": {
    "tags": []
   },
   "source": [
    "### Model Creation"
   ]
  },
  {
   "cell_type": "markdown",
   "id": "1f5f2749-1c54-4921-bf82-1d4dcbfe974e",
   "metadata": {},
   "source": [
    "Next, we create and compile the model. To do so, we first define the necessary parameters."
   ]
  },
  {
   "cell_type": "code",
   "execution_count": 23,
   "id": "c006d5fa-6d45-4227-9511-ce5bf373e122",
   "metadata": {},
   "outputs": [],
   "source": [
    "params['verbose'] = 1 # Verbose = {0,1,2}\n",
    "params['best_model_weights'] = 'weights/bestmodel' # File to save the model\n",
    "params['optimizer'] = 'adam' # Optimizer to use\n",
    "params['backbone_nn'] = tf.keras.layers.RNN # Backbone neural network\n",
    "params['recurrent_units'] = 16 # Number of RNN units\n",
    "params['epochs'] = 10  # Number of epochs to train\n",
    "params['dropout_rate'] = 0.3 # Dropout rate"
   ]
  },
  {
   "cell_type": "markdown",
   "id": "d37ffa17-ca12-450b-8f8a-4957eaf1e91f",
   "metadata": {},
   "source": [
    "Considering that we padded the sequences such that all have the same length, we need to remove predictions on the time step associated with padding. We also need to mach each output with a specific skill.\n",
    "To this end, we implement a function calle get_target. "
   ]
  },
  {
   "cell_type": "code",
   "execution_count": 24,
   "id": "f169eac0-00c0-41ff-bd6a-bfdc2c1dd06f",
   "metadata": {},
   "outputs": [],
   "source": [
    "def get_target(y_true, y_pred, mask_value=params['mask_value']):\n",
    "    \n",
    "    # Get skills and labels from y_true\n",
    "    mask = 1. - tf.cast(tf.equal(y_true, mask_value), y_true.dtype)\n",
    "    y_true = y_true * mask\n",
    "\n",
    "    skills, y_true = tf.split(y_true, num_or_size_splits=[-1, 1], axis=-1)\n",
    "\n",
    "    # Get predictions for each skill\n",
    "    y_pred = tf.reduce_sum(y_pred * skills, axis=-1, keepdims=True)\n",
    "\n",
    "    return y_true, y_pred"
   ]
  },
  {
   "cell_type": "markdown",
   "id": "5b5b1698-5006-4e46-b014-3d43b91db609",
   "metadata": {},
   "source": [
    "While training the model, we will monitor the following evaluation metrics."
   ]
  },
  {
   "cell_type": "code",
   "execution_count": 25,
   "id": "391fe1a6-cc62-4440-9147-e0a076ad1d33",
   "metadata": {},
   "outputs": [],
   "source": [
    "class AUC(tf.keras.metrics.AUC):\n",
    "    def update_state(self, y_true, y_pred, sample_weight=None):\n",
    "        true, pred = get_target(y_true, y_pred)\n",
    "        super(AUC, self).update_state(y_true=true, y_pred=pred, sample_weight=sample_weight)\n",
    "\n",
    "class RMSE(tf.keras.metrics.RootMeanSquaredError):\n",
    "    def update_state(self, y_true, y_pred, sample_weight=None):\n",
    "        true, pred = get_target(y_true, y_pred)\n",
    "        super(RMSE, self).update_state(y_true=true, y_pred=pred, sample_weight=sample_weight)\n",
    "        \n",
    "def CustomBinaryCrossEntropy(y_true, y_pred):    \n",
    "    y_true, y_pred = get_target(y_true, y_pred)\n",
    "    return tf.keras.losses.binary_crossentropy(y_true, y_pred)   "
   ]
  },
  {
   "cell_type": "markdown",
   "id": "4b4b5a3a-3f3a-4729-a7f8-8196edbe85ea",
   "metadata": {},
   "source": [
    "We are not ready to create the model."
   ]
  },
  {
   "cell_type": "code",
   "execution_count": 26,
   "id": "5689b3b6-ca06-4c06-8901-50bbd0ec89e3",
   "metadata": {},
   "outputs": [],
   "source": [
    "def create_model(nb_features, nb_skills, params):\n",
    "    \n",
    "    # Create the model architecture\n",
    "    inputs = tf.keras.Input(shape=(None, nb_features), name='inputs')\n",
    "    x = tf.keras.layers.Masking(mask_value=params['mask_value'])(inputs)\n",
    "    x = tf.keras.layers.SimpleRNN(params['recurrent_units'], return_sequences=True, dropout=params['dropout_rate'])(x)\n",
    "    dense = tf.keras.layers.Dense(nb_skills, activation='sigmoid')\n",
    "    outputs = tf.keras.layers.TimeDistributed(dense, name='outputs')(x)\n",
    "    model = tf.keras.models.Model(inputs=inputs, outputs=outputs, name='DKT')\n",
    "\n",
    "    # Compile the model\n",
    "    model.compile(loss=CustomBinaryCrossEntropy, \n",
    "                  optimizer=params['optimizer'], \n",
    "                  metrics=[AUC(), RMSE()])\n",
    "    \n",
    "    return model\n",
    "\n",
    "model = create_model(features_depth, skill_depth, params)"
   ]
  },
  {
   "cell_type": "code",
   "execution_count": 27,
   "id": "5f274fd4-b346-4d3f-ad8b-4e9ce6da7ac6",
   "metadata": {},
   "outputs": [
    {
     "name": "stdout",
     "output_type": "stream",
     "text": [
      "Model: \"DKT\"\n",
      "_________________________________________________________________\n",
      " Layer (type)                Output Shape              Param #   \n",
      "=================================================================\n",
      " inputs (InputLayer)         [(None, None, 12)]        0         \n",
      "                                                                 \n",
      " masking (Masking)           (None, None, 12)          0         \n",
      "                                                                 \n",
      " simple_rnn (SimpleRNN)      (None, None, 16)          464       \n",
      "                                                                 \n",
      " outputs (TimeDistributed)   (None, None, 5)           85        \n",
      "                                                                 \n",
      "=================================================================\n",
      "Total params: 549\n",
      "Trainable params: 549\n",
      "Non-trainable params: 0\n",
      "_________________________________________________________________\n"
     ]
    }
   ],
   "source": [
    "model.summary()"
   ]
  },
  {
   "cell_type": "markdown",
   "id": "73c67834-af65-4db0-b5a3-e918da3e2af6",
   "metadata": {},
   "source": [
    "### Model Fitting and Evaluation"
   ]
  },
  {
   "cell_type": "markdown",
   "id": "65e74c02-90df-4c44-9b88-c0287200cf57",
   "metadata": {},
   "source": [
    "Finally, we fit the model on the training data and evaluate it on the test data.\n",
    "We are using a callback for the model, i.e. we store the best model (on the validation set) and then use this model for prediction."
   ]
  },
  {
   "cell_type": "code",
   "execution_count": 28,
   "id": "7e316425-3d56-469e-a3d3-0c100ae08fca",
   "metadata": {},
   "outputs": [
    {
     "name": "stdout",
     "output_type": "stream",
     "text": [
      "Epoch 1/10\n",
      "38/38 [==============================] - 35s 761ms/step - loss: 0.8626 - auc: 0.4142 - root_mean_squared_error: 0.6895 - val_loss: 0.8101 - val_auc: 0.4809 - val_root_mean_squared_error: 0.6827\n",
      "Epoch 2/10\n",
      "38/38 [==============================] - 26s 703ms/step - loss: 0.8548 - auc: 0.4689 - root_mean_squared_error: 0.6759 - val_loss: 0.8041 - val_auc: 0.5343 - val_root_mean_squared_error: 0.6708\n",
      "Epoch 3/10\n",
      "38/38 [==============================] - 25s 682ms/step - loss: 0.8491 - auc: 0.5169 - root_mean_squared_error: 0.6650 - val_loss: 0.7991 - val_auc: 0.5625 - val_root_mean_squared_error: 0.6599\n",
      "Epoch 4/10\n",
      "38/38 [==============================] - 27s 710ms/step - loss: 0.8445 - auc: 0.5497 - root_mean_squared_error: 0.6546 - val_loss: 0.7944 - val_auc: 0.5780 - val_root_mean_squared_error: 0.6490\n",
      "Epoch 5/10\n",
      "38/38 [==============================] - 27s 730ms/step - loss: 0.8402 - auc: 0.5716 - root_mean_squared_error: 0.6436 - val_loss: 0.7900 - val_auc: 0.5876 - val_root_mean_squared_error: 0.6395\n",
      "Epoch 6/10\n",
      "38/38 [==============================] - 29s 774ms/step - loss: 0.8359 - auc: 0.5839 - root_mean_squared_error: 0.6340 - val_loss: 0.7863 - val_auc: 0.5921 - val_root_mean_squared_error: 0.6327\n",
      "Epoch 7/10\n",
      "38/38 [==============================] - 27s 725ms/step - loss: 0.8319 - auc: 0.5931 - root_mean_squared_error: 0.6262 - val_loss: 0.7838 - val_auc: 0.5944 - val_root_mean_squared_error: 0.6291\n",
      "Epoch 8/10\n",
      "38/38 [==============================] - 26s 687ms/step - loss: 0.8296 - auc: 0.5957 - root_mean_squared_error: 0.6229 - val_loss: 0.7821 - val_auc: 0.5956 - val_root_mean_squared_error: 0.6272\n",
      "Epoch 9/10\n",
      "38/38 [==============================] - 27s 714ms/step - loss: 0.8285 - auc: 0.5967 - root_mean_squared_error: 0.6211 - val_loss: 0.7810 - val_auc: 0.5968 - val_root_mean_squared_error: 0.6260\n",
      "Epoch 10/10\n",
      "38/38 [==============================] - 26s 693ms/step - loss: 0.8273 - auc: 0.5988 - root_mean_squared_error: 0.6198 - val_loss: 0.7800 - val_auc: 0.5983 - val_root_mean_squared_error: 0.6247\n"
     ]
    }
   ],
   "source": [
    "ckp_callback = tf.keras.callbacks.ModelCheckpoint(params['best_model_weights'], save_best_only=True, save_weights_only=True)\n",
    "history = model.fit(tf_train, epochs=params['epochs'], steps_per_epoch=params['train_size'], \n",
    "                    validation_data=tf_val,  validation_steps = params['val_size'], \n",
    "                    callbacks=[ckp_callback], verbose=params['verbose'])"
   ]
  },
  {
   "cell_type": "markdown",
   "id": "5f70c6c2-e7e1-499b-bdff-b455aadf86a0",
   "metadata": {},
   "source": [
    "We evaluate on the test data set and print the results."
   ]
  },
  {
   "cell_type": "code",
   "execution_count": 29,
   "id": "67b63e31-baec-4b66-83d2-1b50471950f8",
   "metadata": {},
   "outputs": [
    {
     "name": "stdout",
     "output_type": "stream",
     "text": [
      "9/9 [==============================] - 3s 299ms/step - loss: 0.8038 - auc: 0.6719 - root_mean_squared_error: 0.5785\n"
     ]
    }
   ],
   "source": [
    "model.load_weights(params['best_model_weights'])\n",
    "metrics_dkt_small = model.evaluate(tf_test, verbose=params['verbose'], steps = params['test_size'])"
   ]
  },
  {
   "cell_type": "code",
   "execution_count": 30,
   "id": "9470703c-ac7a-4886-9647-972cb43b9109",
   "metadata": {},
   "outputs": [
    {
     "data": {
      "text/plain": [
       "[0.8038070201873779, 0.6718547344207764, 0.5784509181976318]"
      ]
     },
     "execution_count": 30,
     "metadata": {},
     "output_type": "execute_result"
    }
   ],
   "source": [
    "# Binary cross entropy, AUC, RMSE\n",
    "metrics_dkt_small"
   ]
  },
  {
   "cell_type": "markdown",
   "id": "c4ea8507-82fc-4a0a-afd8-cf0f3b88f409",
   "metadata": {
    "tags": []
   },
   "source": [
    "## Model Comparison on Subset"
   ]
  },
  {
   "cell_type": "markdown",
   "id": "a3677a37-94f5-4f25-8fea-311f75afe1aa",
   "metadata": {},
   "source": [
    "Next, we compare the predictive performance of all knowledge tracing models we have seen so far on our subset of data containing six skills."
   ]
  },
  {
   "cell_type": "markdown",
   "id": "7a1c717f-5cab-48c6-b4a3-495154b5cf24",
   "metadata": {},
   "source": [
    "We first also fit a BKT model to this data set using the same train/test split as above."
   ]
  },
  {
   "cell_type": "code",
   "execution_count": 31,
   "id": "d044fa2b-0958-41ff-92cc-cc5a7bc4c516",
   "metadata": {},
   "outputs": [
    {
     "name": "stdout",
     "output_type": "stream",
     "text": [
      "--Circle Graph--\n",
      "CPU times: user 6.39 s, sys: 0 ns, total: 6.39 s\n",
      "Wall time: 6.78 s\n",
      "--Venn Diagram--\n",
      "CPU times: user 5 s, sys: 0 ns, total: 5 s\n",
      "Wall time: 5.38 s\n",
      "--Mode--\n",
      "CPU times: user 8.29 s, sys: 0 ns, total: 8.29 s\n",
      "Wall time: 8.69 s\n",
      "--Division Fractions--\n",
      "CPU times: user 6.7 s, sys: 0 ns, total: 6.7 s\n",
      "Wall time: 6.98 s\n",
      "--Finding Percents--\n",
      "CPU times: user 7 s, sys: 0 ns, total: 7 s\n",
      "Wall time: 7.48 s\n",
      "--Area Rectangle--\n",
      "CPU times: user 3.68 s, sys: 0 ns, total: 3.68 s\n",
      "Wall time: 3.88 s\n"
     ]
    },
    {
     "data": {
      "text/html": [
       "<div>\n",
       "<style scoped>\n",
       "    .dataframe tbody tr th:only-of-type {\n",
       "        vertical-align: middle;\n",
       "    }\n",
       "\n",
       "    .dataframe tbody tr th {\n",
       "        vertical-align: top;\n",
       "    }\n",
       "\n",
       "    .dataframe thead th {\n",
       "        text-align: right;\n",
       "    }\n",
       "</style>\n",
       "<table border=\"1\" class=\"dataframe\">\n",
       "  <thead>\n",
       "    <tr style=\"text-align: right;\">\n",
       "      <th></th>\n",
       "      <th>user_id</th>\n",
       "      <th>order_id</th>\n",
       "      <th>skill_name</th>\n",
       "      <th>correct</th>\n",
       "      <th>prev_attempts</th>\n",
       "      <th>before_correct_num</th>\n",
       "      <th>before_wrong_num</th>\n",
       "      <th>afm_predictions</th>\n",
       "      <th>pfa_predictions</th>\n",
       "      <th>bkt_predictions</th>\n",
       "    </tr>\n",
       "  </thead>\n",
       "  <tbody>\n",
       "    <tr>\n",
       "      <th>3969</th>\n",
       "      <td>64525</td>\n",
       "      <td>28186893</td>\n",
       "      <td>Circle Graph</td>\n",
       "      <td>1</td>\n",
       "      <td>0</td>\n",
       "      <td>0</td>\n",
       "      <td>0</td>\n",
       "      <td>0.48266</td>\n",
       "      <td>0.46224</td>\n",
       "      <td>0.44987</td>\n",
       "    </tr>\n",
       "    <tr>\n",
       "      <th>3970</th>\n",
       "      <td>64525</td>\n",
       "      <td>28187093</td>\n",
       "      <td>Circle Graph</td>\n",
       "      <td>1</td>\n",
       "      <td>1</td>\n",
       "      <td>1</td>\n",
       "      <td>0</td>\n",
       "      <td>0.49251</td>\n",
       "      <td>0.48999</td>\n",
       "      <td>0.63161</td>\n",
       "    </tr>\n",
       "    <tr>\n",
       "      <th>3971</th>\n",
       "      <td>64525</td>\n",
       "      <td>32413158</td>\n",
       "      <td>Circle Graph</td>\n",
       "      <td>1</td>\n",
       "      <td>2</td>\n",
       "      <td>2</td>\n",
       "      <td>0</td>\n",
       "      <td>0.50236</td>\n",
       "      <td>0.51780</td>\n",
       "      <td>0.68926</td>\n",
       "    </tr>\n",
       "    <tr>\n",
       "      <th>3972</th>\n",
       "      <td>64525</td>\n",
       "      <td>33022751</td>\n",
       "      <td>Circle Graph</td>\n",
       "      <td>0</td>\n",
       "      <td>3</td>\n",
       "      <td>3</td>\n",
       "      <td>0</td>\n",
       "      <td>0.51221</td>\n",
       "      <td>0.54551</td>\n",
       "      <td>0.70119</td>\n",
       "    </tr>\n",
       "    <tr>\n",
       "      <th>3973</th>\n",
       "      <td>64525</td>\n",
       "      <td>33023039</td>\n",
       "      <td>Circle Graph</td>\n",
       "      <td>1</td>\n",
       "      <td>4</td>\n",
       "      <td>3</td>\n",
       "      <td>1</td>\n",
       "      <td>0.52205</td>\n",
       "      <td>0.54598</td>\n",
       "      <td>0.69646</td>\n",
       "    </tr>\n",
       "  </tbody>\n",
       "</table>\n",
       "</div>"
      ],
      "text/plain": [
       "      user_id  order_id    skill_name  correct  prev_attempts  \\\n",
       "3969    64525  28186893  Circle Graph        1              0   \n",
       "3970    64525  28187093  Circle Graph        1              1   \n",
       "3971    64525  32413158  Circle Graph        1              2   \n",
       "3972    64525  33022751  Circle Graph        0              3   \n",
       "3973    64525  33023039  Circle Graph        1              4   \n",
       "\n",
       "      before_correct_num  before_wrong_num  afm_predictions  pfa_predictions  \\\n",
       "3969                   0                 0          0.48266          0.46224   \n",
       "3970                   1                 0          0.49251          0.48999   \n",
       "3971                   2                 0          0.50236          0.51780   \n",
       "3972                   3                 0          0.51221          0.54551   \n",
       "3973                   3                 1          0.52205          0.54598   \n",
       "\n",
       "      bkt_predictions  \n",
       "3969          0.44987  \n",
       "3970          0.63161  \n",
       "3971          0.68926  \n",
       "3972          0.70119  \n",
       "3973          0.69646  "
      ]
     },
     "execution_count": 31,
     "metadata": {},
     "output_type": "execute_result"
    }
   ],
   "source": [
    "df_preds = pd.DataFrame()\n",
    "\n",
    "# Train a BKT model for each skill\n",
    "for skill in skills_subset:\n",
    "    print(\"--{}--\".format(skill))\n",
    "    X_train_skill = X_train[X_train['skill_name'] == skill]\n",
    "    X_test_skill = X_test[X_test['skill_name'] == skill]\n",
    "    # Initialize and fit the model\n",
    "    model = Model(seed=0)\n",
    "    %time model.fit(data=X_train_skill) \n",
    "    preds = model.predict(data=X_test_skill) [['user_id', 'order_id', 'skill_name', 'correct', 'prev_attempts',\n",
    "       'before_correct_num', 'before_wrong_num', 'afm_predictions', 'pfa_predictions', 'correct_predictions']]\n",
    "    df_preds = df_preds.append(preds)\n",
    "\n",
    "X_test = df_preds\n",
    "X_test.columns = ['user_id', 'order_id', 'skill_name', 'correct', 'prev_attempts',\n",
    "       'before_correct_num', 'before_wrong_num', 'afm_predictions', 'pfa_predictions', 'bkt_predictions']\n",
    "X_test.head()"
   ]
  },
  {
   "cell_type": "markdown",
   "id": "49357c01-fcaa-4287-ab57-3a62bb9a5aed",
   "metadata": {},
   "source": [
    "Finally, we plot the overall RMSE and overall AUC of all models."
   ]
  },
  {
   "cell_type": "code",
   "execution_count": 32,
   "id": "85d4d887-844d-4a2d-bf17-918d1239e7e6",
   "metadata": {},
   "outputs": [
    {
     "data": {
      "text/plain": [
       "Text(0, 0.5, 'RMSE')"
      ]
     },
     "execution_count": 32,
     "metadata": {},
     "output_type": "execute_result"
    },
    {
     "data": {
      "image/png": "[encoded data removed]",
      "text/plain": [
       "<Figure size 432x288 with 1 Axes>"
      ]
     },
     "metadata": {
      "needs_background": "light"
     },
     "output_type": "display_data"
    }
   ],
   "source": [
    "rmse_bkt = mean_squared_error(X_test['bkt_predictions'],X_test['correct'], squared = False)\n",
    "rmse_afm = mean_squared_error(X_test['afm_predictions'],X_test['correct'], squared = False)\n",
    "rmse_pfa = mean_squared_error(X_test['pfa_predictions'],X_test['correct'], squared = False)\n",
    "rmse_dkt = metrics_dkt_small[2]\n",
    "\n",
    "rmse = [rmse_bkt, rmse_afm, rmse_pfa, rmse_dkt]\n",
    "models = ['BKT', 'AFM', 'PFA', 'DKT']\n",
    "\n",
    "plt.bar(models, rmse)\n",
    "plt.ylabel('RMSE')"
   ]
  },
  {
   "cell_type": "code",
   "execution_count": 33,
   "id": "2065309a-950c-470e-af81-1542636a60b2",
   "metadata": {
    "tags": []
   },
   "outputs": [
    {
     "data": {
      "text/plain": [
       "Text(0, 0.5, 'AUC')"
      ]
     },
     "execution_count": 33,
     "metadata": {},
     "output_type": "execute_result"
    },
    {
     "data": {
      "image/png": "[encoded data removed]",
      "text/plain": [
       "<Figure size 432x288 with 1 Axes>"
      ]
     },
     "metadata": {
      "needs_background": "light"
     },
     "output_type": "display_data"
    }
   ],
   "source": [
    "auc_bkt = roc_auc_score(X_test['correct'], X_test['bkt_predictions'])\n",
    "auc_afm = roc_auc_score(X_test['correct'], X_test['afm_predictions'])\n",
    "auc_pfa = roc_auc_score(X_test['correct'], X_test['pfa_predictions'])\n",
    "auc_dkt = metrics_dkt_small[1]\n",
    "\n",
    "auc = [auc_bkt, auc_afm, auc_pfa, auc_dkt]\n",
    "models = ['BKT', 'AFM', 'PFA', 'DKT']\n",
    "\n",
    "plt.bar(models, auc)\n",
    "plt.ylabel('AUC')"
   ]
  },
  {
   "cell_type": "markdown",
   "id": "5073e31e-0fe2-46bc-8823-e867ce4415ef",
   "metadata": {},
   "source": [
    "We observe that BKT outperforms AFM and PFA in terms of RMSE and AUC. Not unexpectedly, PFA is performing better than AFM. Interestingly, DKT performs much worse than the other models in terms of RMSE and is about on par with AFM regarding the AUC. This is probably due to the fact, that the data set (and the number of epochs) are too small for DKT - the only six skills in the data set do not allow the model to infer relations bewteen the skills."
   ]
  },
  {
   "cell_type": "markdown",
   "id": "22ca99dc-50da-4a18-adc8-63417a4a136c",
   "metadata": {},
   "source": [
    "## Model Comparison on Full Data Set"
   ]
  },
  {
   "cell_type": "markdown",
   "id": "e8733651-3af5-4ee8-9d90-473c251da1ef",
   "metadata": {},
   "source": [
    "Finally, we compare predictive performance of the models on the full data set. We only compare BKT (the previously best model) and DKT. We first split the data."
   ]
  },
  {
   "cell_type": "code",
   "execution_count": 34,
   "id": "fb4bfa94-0a11-4054-b3fc-9c71f09d6682",
   "metadata": {},
   "outputs": [
    {
     "name": "stdout",
     "output_type": "stream",
     "text": [
      "Number of unique students in the data: 4151\n",
      "Number of unique skills in the data: 110\n",
      "Number of unique students in the training data: 3320\n",
      "Number of unique skills in the training data: 110\n",
      "Number of unique students in the test data: 831\n",
      "Number of unique skills in the test data: 105\n"
     ]
    }
   ],
   "source": [
    "data = assistments.copy()\n",
    "print(\"Number of unique students in the data:\", len(set(data['user_id']))) \n",
    "print(\"Number of unique skills in the data:\", len(set(data['skill_name'])))\n",
    "\n",
    "# Split into train and test\n",
    "train_index, test_index = next(create_iterator(data))\n",
    "X_train, X_test = data.iloc[train_index], data.iloc[test_index]\n",
    "print(\"Number of unique students in the training data:\", len(set(X_train['user_id']))) \n",
    "print(\"Number of unique skills in the training data:\", len(set(X_train['skill_name']))) \n",
    "print(\"Number of unique students in the test data:\", len(set(X_test['user_id'])))\n",
    "print(\"Number of unique skills in the test data:\", len(set(X_test['skill_name']))) \n",
    "\n",
    "# Then, obtain validation set\n",
    "train_val_index, val_index = next(create_iterator(X_train))\n",
    "X_train_val, X_val = X_train.iloc[train_val_index], X_train.iloc[val_index]"
   ]
  },
  {
   "cell_type": "markdown",
   "id": "56b724b2-032e-43cd-9e73-931b06965226",
   "metadata": {},
   "source": [
    "### DKT"
   ]
  },
  {
   "cell_type": "markdown",
   "id": "d9d64349-c423-4f9d-9d68-91c7f7f75834",
   "metadata": {},
   "source": [
    "We again first prepare the data for the DKT model."
   ]
  },
  {
   "cell_type": "code",
   "execution_count": 35,
   "id": "d3e85e8b-71ce-4979-bd76-157f143929e0",
   "metadata": {
    "tags": []
   },
   "outputs": [],
   "source": [
    "params = {}\n",
    "params['batch_size'] = 32\n",
    "params['mask_value'] = -1.0\n",
    "\n",
    "seq, features_depth, skill_depth = prepare_seq(data)\n",
    "seq_train = seq[X_train.user_id.unique()]\n",
    "seq_val = seq[X_train_val.user_id.unique()]\n",
    "seq_test = seq[X_test.user_id.unique()]\n",
    "\n",
    "tf_train, length = prepare_data(seq_train, params, features_depth, skill_depth)\n",
    "tf_val, val_length  = prepare_data(seq_val, params, features_depth, skill_depth)\n",
    "tf_test, test_length = prepare_data(seq_test, params, features_depth, skill_depth)\n",
    "\n",
    "params['train_size'] = int(length // params['batch_size'])\n",
    "params['val_size'] = int(val_length // params['batch_size'])\n",
    "params['test_size'] = int(test_length // params['batch_size'])"
   ]
  },
  {
   "cell_type": "markdown",
   "id": "4ae0c79e-b766-4e63-b57f-486478c9ef18",
   "metadata": {},
   "source": [
    "We then again specify the parameters and create the model. Since we have more skills and students, we use a larger model."
   ]
  },
  {
   "cell_type": "code",
   "execution_count": 36,
   "id": "895e2904-b25e-4bfd-b1a0-0e6f9779dfcd",
   "metadata": {},
   "outputs": [
    {
     "name": "stdout",
     "output_type": "stream",
     "text": [
      "Model: \"DKT\"\n",
      "_________________________________________________________________\n",
      " Layer (type)                Output Shape              Param #   \n",
      "=================================================================\n",
      " inputs (InputLayer)         [(None, None, 220)]       0         \n",
      "                                                                 \n",
      " masking_1 (Masking)         (None, None, 220)         0         \n",
      "                                                                 \n",
      " simple_rnn_1 (SimpleRNN)    (None, None, 64)          18240     \n",
      "                                                                 \n",
      " outputs (TimeDistributed)   (None, None, 109)         7085      \n",
      "                                                                 \n",
      "=================================================================\n",
      "Total params: 25,325\n",
      "Trainable params: 25,325\n",
      "Non-trainable params: 0\n",
      "_________________________________________________________________\n"
     ]
    }
   ],
   "source": [
    "params['verbose'] = 1 # Verbose = {0,1,2}\n",
    "params['best_model_weights'] = 'weights/bestmodel' # File to save the model\n",
    "params['optimizer'] = 'adam' # Optimizer to use\n",
    "params['backbone_nn'] = tf.keras.layers.RNN # Backbone neural network\n",
    "params['recurrent_units'] = 64 # Number of RNN units\n",
    "params['epochs'] = 30  # Number of epochs to train\n",
    "params['dropout_rate'] = 0.3 # Dropout rate\n",
    "\n",
    "model = create_model(features_depth, skill_depth, params)\n",
    "model.summary()"
   ]
  },
  {
   "cell_type": "markdown",
   "id": "9805099f-5cd0-4117-ad90-ad022b11e60f",
   "metadata": {},
   "source": [
    "We first fit the model on the train data and then evaluate on the test data."
   ]
  },
  {
   "cell_type": "code",
   "execution_count": 37,
   "id": "d36cd0b1-2ec9-41eb-ab71-0a01bdd58df0",
   "metadata": {},
   "outputs": [
    {
     "name": "stdout",
     "output_type": "stream",
     "text": [
      "Epoch 1/30\n",
      "103/103 [==============================] - 439s 4s/step - loss: 0.1946 - auc_1: 0.5749 - root_mean_squared_error: 0.4854 - val_loss: 0.1751 - val_auc_1: 0.6714 - val_root_mean_squared_error: 0.4551\n",
      "Epoch 2/30\n",
      "103/103 [==============================] - 364s 4s/step - loss: 0.1820 - auc_1: 0.7206 - root_mean_squared_error: 0.4444 - val_loss: 0.1650 - val_auc_1: 0.7831 - val_root_mean_squared_error: 0.4235\n",
      "Epoch 3/30\n",
      "103/103 [==============================] - 601s 6s/step - loss: 0.1766 - auc_1: 0.7531 - root_mean_squared_error: 0.4296 - val_loss: 0.1599 - val_auc_1: 0.8032 - val_root_mean_squared_error: 0.4067\n",
      "Epoch 4/30\n",
      "103/103 [==============================] - 337s 3s/step - loss: 0.1707 - auc_1: 0.7898 - root_mean_squared_error: 0.4081 - val_loss: 0.1562 - val_auc_1: 0.8199 - val_root_mean_squared_error: 0.3964\n",
      "Epoch 5/30\n",
      "103/103 [==============================] - 316s 3s/step - loss: 0.1678 - auc_1: 0.8019 - root_mean_squared_error: 0.4013 - val_loss: 0.1546 - val_auc_1: 0.8238 - val_root_mean_squared_error: 0.3914\n",
      "Epoch 6/30\n",
      "103/103 [==============================] - 362s 3s/step - loss: 0.1666 - auc_1: 0.8062 - root_mean_squared_error: 0.3976 - val_loss: 0.1526 - val_auc_1: 0.8300 - val_root_mean_squared_error: 0.3868\n",
      "Epoch 7/30\n",
      "103/103 [==============================] - 350s 3s/step - loss: 0.1654 - auc_1: 0.8115 - root_mean_squared_error: 0.3948 - val_loss: 0.1527 - val_auc_1: 0.8298 - val_root_mean_squared_error: 0.3873\n",
      "Epoch 8/30\n",
      "103/103 [==============================] - 380s 4s/step - loss: 0.1648 - auc_1: 0.8123 - root_mean_squared_error: 0.3942 - val_loss: 0.1511 - val_auc_1: 0.8326 - val_root_mean_squared_error: 0.3837\n",
      "Epoch 9/30\n",
      "103/103 [==============================] - 384s 4s/step - loss: 0.1644 - auc_1: 0.8131 - root_mean_squared_error: 0.3931 - val_loss: 0.1515 - val_auc_1: 0.8327 - val_root_mean_squared_error: 0.3843\n",
      "Epoch 10/30\n",
      "103/103 [==============================] - 410s 4s/step - loss: 0.1644 - auc_1: 0.8132 - root_mean_squared_error: 0.3934 - val_loss: 0.1518 - val_auc_1: 0.8305 - val_root_mean_squared_error: 0.3857\n",
      "Epoch 11/30\n",
      "103/103 [==============================] - 394s 4s/step - loss: 0.1637 - auc_1: 0.8150 - root_mean_squared_error: 0.3925 - val_loss: 0.1506 - val_auc_1: 0.8344 - val_root_mean_squared_error: 0.3829\n",
      "Epoch 12/30\n",
      "103/103 [==============================] - 376s 4s/step - loss: 0.1634 - auc_1: 0.8149 - root_mean_squared_error: 0.3924 - val_loss: 0.1505 - val_auc_1: 0.8352 - val_root_mean_squared_error: 0.3829\n",
      "Epoch 13/30\n",
      "103/103 [==============================] - 362s 3s/step - loss: 0.1633 - auc_1: 0.8134 - root_mean_squared_error: 0.3928 - val_loss: 0.1506 - val_auc_1: 0.8344 - val_root_mean_squared_error: 0.3832\n",
      "Epoch 14/30\n",
      "103/103 [==============================] - 357s 3s/step - loss: 0.1629 - auc_1: 0.8159 - root_mean_squared_error: 0.3917 - val_loss: 0.1492 - val_auc_1: 0.8384 - val_root_mean_squared_error: 0.3800\n",
      "Epoch 15/30\n",
      "103/103 [==============================] - 381s 4s/step - loss: 0.1624 - auc_1: 0.8199 - root_mean_squared_error: 0.3893 - val_loss: 0.1500 - val_auc_1: 0.8351 - val_root_mean_squared_error: 0.3822\n",
      "Epoch 16/30\n",
      "103/103 [==============================] - 394s 4s/step - loss: 0.1622 - auc_1: 0.8196 - root_mean_squared_error: 0.3897 - val_loss: 0.1494 - val_auc_1: 0.8371 - val_root_mean_squared_error: 0.3813\n",
      "Epoch 17/30\n",
      "103/103 [==============================] - 412s 4s/step - loss: 0.1619 - auc_1: 0.8202 - root_mean_squared_error: 0.3891 - val_loss: 0.1489 - val_auc_1: 0.8379 - val_root_mean_squared_error: 0.3804\n",
      "Epoch 18/30\n",
      "103/103 [==============================] - 465s 5s/step - loss: 0.1613 - auc_1: 0.8214 - root_mean_squared_error: 0.3884 - val_loss: 0.1490 - val_auc_1: 0.8381 - val_root_mean_squared_error: 0.3809\n",
      "Epoch 19/30\n",
      "103/103 [==============================] - 463s 4s/step - loss: 0.1609 - auc_1: 0.8205 - root_mean_squared_error: 0.3890 - val_loss: 0.1489 - val_auc_1: 0.8369 - val_root_mean_squared_error: 0.3811\n",
      "Epoch 20/30\n",
      "103/103 [==============================] - 380s 4s/step - loss: 0.1615 - auc_1: 0.8189 - root_mean_squared_error: 0.3898 - val_loss: 0.1493 - val_auc_1: 0.8363 - val_root_mean_squared_error: 0.3821\n",
      "Epoch 21/30\n",
      "103/103 [==============================] - 393s 4s/step - loss: 0.1606 - auc_1: 0.8213 - root_mean_squared_error: 0.3887 - val_loss: 0.1475 - val_auc_1: 0.8413 - val_root_mean_squared_error: 0.3780\n",
      "Epoch 22/30\n",
      "103/103 [==============================] - 407s 4s/step - loss: 0.1599 - auc_1: 0.8244 - root_mean_squared_error: 0.3870 - val_loss: 0.1476 - val_auc_1: 0.8413 - val_root_mean_squared_error: 0.3786\n",
      "Epoch 23/30\n",
      "103/103 [==============================] - 354s 3s/step - loss: 0.1603 - auc_1: 0.8243 - root_mean_squared_error: 0.3872 - val_loss: 0.1473 - val_auc_1: 0.8416 - val_root_mean_squared_error: 0.3781\n",
      "Epoch 24/30\n",
      "103/103 [==============================] - 372s 4s/step - loss: 0.1599 - auc_1: 0.8262 - root_mean_squared_error: 0.3862 - val_loss: 0.1482 - val_auc_1: 0.8400 - val_root_mean_squared_error: 0.3796\n",
      "Epoch 25/30\n",
      "103/103 [==============================] - 372s 4s/step - loss: 0.1597 - auc_1: 0.8238 - root_mean_squared_error: 0.3874 - val_loss: 0.1475 - val_auc_1: 0.8418 - val_root_mean_squared_error: 0.3785\n",
      "Epoch 26/30\n",
      "103/103 [==============================] - 356s 3s/step - loss: 0.1598 - auc_1: 0.8255 - root_mean_squared_error: 0.3867 - val_loss: 0.1467 - val_auc_1: 0.8435 - val_root_mean_squared_error: 0.3771\n",
      "Epoch 27/30\n",
      "103/103 [==============================] - 425s 4s/step - loss: 0.1590 - auc_1: 0.8270 - root_mean_squared_error: 0.3861 - val_loss: 0.1467 - val_auc_1: 0.8425 - val_root_mean_squared_error: 0.3774\n",
      "Epoch 28/30\n",
      "103/103 [==============================] - 364s 3s/step - loss: 0.1587 - auc_1: 0.8266 - root_mean_squared_error: 0.3858 - val_loss: 0.1467 - val_auc_1: 0.8437 - val_root_mean_squared_error: 0.3773\n",
      "Epoch 29/30\n",
      "103/103 [==============================] - 390s 4s/step - loss: 0.1592 - auc_1: 0.8258 - root_mean_squared_error: 0.3865 - val_loss: 0.1469 - val_auc_1: 0.8410 - val_root_mean_squared_error: 0.3780\n",
      "Epoch 30/30\n",
      "103/103 [==============================] - 419s 4s/step - loss: 0.1592 - auc_1: 0.8255 - root_mean_squared_error: 0.3863 - val_loss: 0.1470 - val_auc_1: 0.8430 - val_root_mean_squared_error: 0.3779\n"
     ]
    }
   ],
   "source": [
    "params['best_model_weights_complete'] = 'weights/bestmodelcomplete'\n",
    "ckp_callback = tf.keras.callbacks.ModelCheckpoint(params['best_model_weights_complete'], save_best_only=True, save_weights_only=True)\n",
    "history = model.fit(tf_train, epochs=params['epochs'], steps_per_epoch=params['train_size'], \n",
    "                    validation_data=tf_val,  validation_steps = params['val_size'], \n",
    "                    callbacks=[ckp_callback], verbose=params['verbose'])"
   ]
  },
  {
   "cell_type": "code",
   "execution_count": 38,
   "id": "832c21a5-7457-460b-bffb-017794cacb85",
   "metadata": {
    "tags": []
   },
   "outputs": [
    {
     "data": {
      "text/plain": [
       "<tensorflow.python.training.tracking.util.CheckpointLoadStatus at 0x7f5e640d2f10>"
      ]
     },
     "execution_count": 38,
     "metadata": {},
     "output_type": "execute_result"
    }
   ],
   "source": [
    "model.load_weights(params['best_model_weights_complete'])"
   ]
  },
  {
   "cell_type": "code",
   "execution_count": 39,
   "id": "1898cbbe-463b-410f-8d54-ec4d72953f28",
   "metadata": {},
   "outputs": [
    {
     "name": "stdout",
     "output_type": "stream",
     "text": [
      "25/25 [==============================] - 21s 717ms/step - loss: 0.1288 - auc_1: 0.8575 - root_mean_squared_error: 0.3621\n"
     ]
    }
   ],
   "source": [
    "metrics_dkt_full = model.evaluate(tf_test, verbose=params['verbose'], steps = params['test_size'])"
   ]
  },
  {
   "cell_type": "code",
   "execution_count": null,
   "id": "ca14e190-e935-436f-ad01-09e89790e59c",
   "metadata": {},
   "outputs": [],
   "source": [
    "metrics_dkt_full"
   ]
  },
  {
   "cell_type": "markdown",
   "id": "0604acbf-2968-457a-a0cd-a02d1399e520",
   "metadata": {
    "tags": []
   },
   "source": [
    "### BKT"
   ]
  },
  {
   "cell_type": "markdown",
   "id": "4cbdda21-6418-4e08-a135-ae285c234370",
   "metadata": {},
   "source": [
    "We then again fit the BKT model."
   ]
  },
  {
   "cell_type": "code",
   "execution_count": 40,
   "id": "9c7acde1-90de-43ee-a1cc-bd839a2cef50",
   "metadata": {},
   "outputs": [
    {
     "name": "stdout",
     "output_type": "stream",
     "text": [
      "--Box and Whisker--\n",
      "CPU times: user 2.76 s, sys: 0 ns, total: 2.76 s\n",
      "Wall time: 7.52 s\n",
      "--Circle Graph--\n",
      "CPU times: user 2.06 s, sys: 0 ns, total: 2.06 s\n",
      "Wall time: 2.33 s\n",
      "--Histogram as Table or Graph--\n",
      "CPU times: user 853 ms, sys: 0 ns, total: 853 ms\n",
      "Wall time: 792 ms\n",
      "--Number Line--\n",
      "CPU times: user 392 ms, sys: 0 ns, total: 392 ms\n",
      "Wall time: 355 ms\n",
      "--Scatter Plot--\n",
      "CPU times: user 704 ms, sys: 0 ns, total: 704 ms\n",
      "Wall time: 663 ms\n",
      "--Stem and Leaf Plot--\n",
      "CPU times: user 1.75 s, sys: 0 ns, total: 1.75 s\n",
      "Wall time: 1.76 s\n",
      "--Table--\n",
      "CPU times: user 1.83 s, sys: 0 ns, total: 1.83 s\n",
      "Wall time: 1.74 s\n",
      "--Venn Diagram--\n",
      "CPU times: user 3.77 s, sys: 0 ns, total: 3.77 s\n",
      "Wall time: 3.79 s\n",
      "--Mean--\n",
      "CPU times: user 3.18 s, sys: 0 ns, total: 3.18 s\n",
      "Wall time: 3.14 s\n",
      "--Median--\n",
      "CPU times: user 1.73 s, sys: 0 ns, total: 1.73 s\n",
      "Wall time: 1.7 s\n",
      "--Mode--\n",
      "CPU times: user 2.21 s, sys: 0 ns, total: 2.21 s\n",
      "Wall time: 2.19 s\n",
      "--Range--\n",
      "CPU times: user 1.43 s, sys: 0 ns, total: 1.43 s\n",
      "Wall time: 1.38 s\n",
      "--Counting Methods--\n",
      "CPU times: user 2.63 s, sys: 0 ns, total: 2.63 s\n",
      "Wall time: 2.58 s\n",
      "--Probability of Two Distinct Events--\n",
      "CPU times: user 3.23 s, sys: 0 ns, total: 3.23 s\n",
      "Wall time: 3.2 s\n",
      "--Probability of a Single Event--\n",
      "CPU times: user 3.21 s, sys: 0 ns, total: 3.21 s\n",
      "Wall time: 3.17 s\n",
      "--Interior Angles Figures with More than 3 Sides--\n",
      "CPU times: user 1.37 s, sys: 0 ns, total: 1.37 s\n",
      "Wall time: 1.33 s\n",
      "--Interior Angles Triangle--\n",
      "CPU times: user 1.02 s, sys: 0 ns, total: 1.02 s\n",
      "Wall time: 1.03 s\n",
      "--Congruence--\n",
      "CPU times: user 411 ms, sys: 0 ns, total: 411 ms\n",
      "Wall time: 360 ms\n",
      "--Complementary and Supplementary Angles--\n",
      "CPU times: user 1.25 s, sys: 0 ns, total: 1.25 s\n",
      "Wall time: 1.23 s\n",
      "--Angles on Parallel Lines Cut by a Transversal--\n",
      "CPU times: user 1.06 s, sys: 0 ns, total: 1.06 s\n",
      "Wall time: 998 ms\n",
      "--Pythagorean Theorem--\n",
      "CPU times: user 1.62 s, sys: 0 ns, total: 1.62 s\n",
      "Wall time: 1.56 s\n",
      "--Nets of 3D Figures--\n",
      "CPU times: user 487 ms, sys: 0 ns, total: 487 ms\n",
      "Wall time: 463 ms\n",
      "--Unit Conversion Within a System--\n",
      "CPU times: user 452 ms, sys: 0 ns, total: 452 ms\n",
      "Wall time: 455 ms\n",
      "--Effect of Changing Dimensions of a Shape Prportionally--\n",
      "CPU times: user 1.28 s, sys: 0 ns, total: 1.28 s\n",
      "Wall time: 1.21 s\n",
      "--Area Circle--\n",
      "CPU times: user 3.04 s, sys: 0 ns, total: 3.04 s\n",
      "Wall time: 3.24 s\n",
      "--Circumference --\n",
      "CPU times: user 1.46 s, sys: 0 ns, total: 1.46 s\n",
      "Wall time: 1.43 s\n",
      "--Perimeter of a Polygon--\n",
      "CPU times: user 590 ms, sys: 0 ns, total: 590 ms\n",
      "Wall time: 560 ms\n",
      "--Reading a Ruler or Scale--\n",
      "CPU times: user 782 ms, sys: 0 ns, total: 782 ms\n",
      "Wall time: 761 ms\n",
      "Skill Reading a Ruler or Scale not found in test set\n",
      "--Calculations with Similar Figures--\n",
      "CPU times: user 1.42 s, sys: 0 ns, total: 1.42 s\n",
      "Wall time: 1.38 s\n",
      "--Conversion of Fraction Decimals Percents--\n",
      "CPU times: user 4.53 s, sys: 0 ns, total: 4.53 s\n",
      "Wall time: 4.5 s\n",
      "--Equivalent Fractions--\n",
      "CPU times: user 2.08 s, sys: 0 ns, total: 2.08 s\n",
      "Wall time: 2.05 s\n",
      "--Ordering Positive Decimals--\n",
      "CPU times: user 1.75 s, sys: 0 ns, total: 1.75 s\n",
      "Wall time: 1.71 s\n",
      "--Ordering Fractions--\n",
      "CPU times: user 2.67 s, sys: 0 ns, total: 2.67 s\n",
      "Wall time: 2.63 s\n",
      "--Ordering Integers--\n",
      "CPU times: user 2.68 s, sys: 0 ns, total: 2.68 s\n",
      "Wall time: 2.64 s\n",
      "--Ordering Real Numbers--\n",
      "CPU times: user 691 ms, sys: 0 ns, total: 691 ms\n",
      "Wall time: 661 ms\n",
      "--Rounding--\n",
      "CPU times: user 1.48 s, sys: 0 ns, total: 1.48 s\n",
      "Wall time: 1.45 s\n",
      "--Addition Whole Numbers--\n",
      "CPU times: user 1.79 s, sys: 0 ns, total: 1.79 s\n",
      "Wall time: 1.74 s\n",
      "--Division Fractions--\n",
      "CPU times: user 2.34 s, sys: 0 ns, total: 2.34 s\n",
      "Wall time: 2.34 s\n",
      "--Estimation--\n",
      "CPU times: user 550 ms, sys: 0 ns, total: 550 ms\n",
      "Wall time: 520 ms\n",
      "--Fraction Of--\n",
      "CPU times: user 96.3 ms, sys: 0 ns, total: 96.3 ms\n",
      "Wall time: 53.6 ms\n",
      "--Least Common Multiple--\n",
      "CPU times: user 2.98 s, sys: 0 ns, total: 2.98 s\n",
      "Wall time: 2.94 s\n",
      "--Multiplication Fractions--\n",
      "CPU times: user 1.31 s, sys: 0 ns, total: 1.31 s\n",
      "Wall time: 1.28 s\n",
      "--Multiplication Whole Numbers--\n",
      "CPU times: user 201 ms, sys: 0 ns, total: 201 ms\n",
      "Wall time: 148 ms\n",
      "--Percent Of--\n",
      "CPU times: user 11.3 s, sys: 0 ns, total: 11.3 s\n",
      "Wall time: 11.2 s\n",
      "--Subtraction Whole Numbers--\n",
      "CPU times: user 2.52 s, sys: 0 ns, total: 2.52 s\n",
      "Wall time: 2.48 s\n",
      "--Square Root--\n",
      "CPU times: user 1.58 s, sys: 0 ns, total: 1.58 s\n",
      "Wall time: 1.54 s\n",
      "--Finding Percents--\n",
      "CPU times: user 1.15 s, sys: 0 ns, total: 1.15 s\n",
      "Wall time: 1.12 s\n",
      "--Proportion--\n",
      "CPU times: user 1.76 s, sys: 0 ns, total: 1.76 s\n",
      "Wall time: 1.73 s\n",
      "--Scale Factor--\n",
      "CPU times: user 709 ms, sys: 0 ns, total: 709 ms\n",
      "Wall time: 689 ms\n",
      "--Unit Rate--\n",
      "CPU times: user 2.02 s, sys: 0 ns, total: 2.02 s\n",
      "Wall time: 2 s\n",
      "--Scientific Notation--\n",
      "CPU times: user 798 ms, sys: 0 ns, total: 798 ms\n",
      "Wall time: 767 ms\n",
      "--Divisibility Rules--\n",
      "CPU times: user 1.03 s, sys: 0 ns, total: 1.03 s\n",
      "Wall time: 997 ms\n",
      "--Prime Number--\n",
      "CPU times: user 1.44 s, sys: 0 ns, total: 1.44 s\n",
      "Wall time: 1.4 s\n",
      "--Absolute Value--\n",
      "CPU times: user 2.24 s, sys: 0 ns, total: 2.24 s\n",
      "Wall time: 2.19 s\n",
      "--Exponents--\n",
      "CPU times: user 2.2 s, sys: 0 ns, total: 2.2 s\n",
      "Wall time: 2.15 s\n",
      "--Pattern Finding --\n",
      "CPU times: user 1.8 s, sys: 0 ns, total: 1.8 s\n",
      "Wall time: 1.73 s\n",
      "--D.4.8-understanding-concept-of-probabilities--\n",
      "CPU times: user 939 ms, sys: 0 ns, total: 939 ms\n",
      "Wall time: 948 ms\n",
      "--Algebraic Simplification--\n",
      "CPU times: user 95.5 ms, sys: 0 ns, total: 95.5 ms\n",
      "Wall time: 25.7 ms\n",
      "--Algebraic Solving--\n",
      "CPU times: user 581 ms, sys: 0 ns, total: 581 ms\n",
      "Wall time: 536 ms\n",
      "--Choose an Equation from Given Information--\n",
      "CPU times: user 154 ms, sys: 0 ns, total: 154 ms\n",
      "Wall time: 99.7 ms\n",
      "--Intercept--\n",
      "CPU times: user 8.74 ms, sys: 0 ns, total: 8.74 ms\n",
      "Wall time: 8.76 ms\n",
      "--Linear Equations--\n",
      "CPU times: user 940 ms, sys: 0 ns, total: 940 ms\n",
      "Wall time: 857 ms\n",
      "--Percent Discount--\n",
      "CPU times: user 755 ms, sys: 0 ns, total: 755 ms\n",
      "Wall time: 821 ms\n",
      "--Percents--\n",
      "CPU times: user 716 ms, sys: 0 ns, total: 716 ms\n",
      "Wall time: 680 ms\n",
      "--Rate--\n",
      "CPU times: user 882 ms, sys: 0 ns, total: 882 ms\n",
      "Wall time: 847 ms\n",
      "--Slope--\n",
      "CPU times: user 735 ms, sys: 0 ns, total: 735 ms\n",
      "Wall time: 745 ms\n",
      "--Multiplication and Division Positive Decimals--\n",
      "CPU times: user 957 ms, sys: 0 ns, total: 957 ms\n",
      "Wall time: 920 ms\n",
      "--Addition and Subtraction Integers--\n",
      "CPU times: user 3.95 s, sys: 0 ns, total: 3.95 s\n",
      "Wall time: 3.9 s\n",
      "--Addition and Subtraction Positive Decimals--\n",
      "CPU times: user 1.5 s, sys: 0 ns, total: 1.5 s\n",
      "Wall time: 1.46 s\n",
      "--Multiplication and Division Integers--\n",
      "CPU times: user 3.63 s, sys: 0 ns, total: 3.63 s\n",
      "Wall time: 3.58 s\n",
      "--Addition and Subtraction Fractions--\n",
      "CPU times: user 2.61 s, sys: 0 ns, total: 2.61 s\n",
      "Wall time: 2.58 s\n",
      "--Reflection--\n",
      "CPU times: user 1.03 s, sys: 0 ns, total: 1.03 s\n",
      "Wall time: 1.03 s\n",
      "--Rotations--\n",
      "CPU times: user 742 ms, sys: 0 ns, total: 742 ms\n",
      "Wall time: 711 ms\n",
      "--Translations--\n",
      "CPU times: user 730 ms, sys: 0 ns, total: 730 ms\n",
      "Wall time: 753 ms\n",
      "--Area Irregular Figure--\n",
      "CPU times: user 1.78 s, sys: 0 ns, total: 1.78 s\n",
      "Wall time: 1.74 s\n",
      "--Area Parallelogram--\n",
      "CPU times: user 1.15 s, sys: 0 ns, total: 1.15 s\n",
      "Wall time: 1.12 s\n",
      "--Area Rectangle--\n",
      "CPU times: user 1.93 s, sys: 0 ns, total: 1.93 s\n",
      "Wall time: 1.9 s\n",
      "--Area Trapezoid--\n",
      "CPU times: user 1.43 s, sys: 0 ns, total: 1.43 s\n",
      "Wall time: 1.46 s\n",
      "--Area Triangle--\n",
      "CPU times: user 741 ms, sys: 0 ns, total: 741 ms\n",
      "Wall time: 652 ms\n",
      "--Surface Area Cylinder--\n",
      "CPU times: user 413 ms, sys: 0 ns, total: 413 ms\n",
      "Wall time: 381 ms\n",
      "--Surface Area Rectangular Prism--\n",
      "CPU times: user 1.49 s, sys: 0 ns, total: 1.49 s\n",
      "Wall time: 1.94 s\n",
      "--Volume Cylinder--\n",
      "CPU times: user 2.73 s, sys: 0 ns, total: 2.73 s\n",
      "Wall time: 2.68 s\n",
      "--Volume Rectangular Prism--\n",
      "CPU times: user 2.92 s, sys: 0 ns, total: 2.92 s\n",
      "Wall time: 2.86 s\n",
      "--Volume Sphere--\n",
      "CPU times: user 858 ms, sys: 0 ns, total: 858 ms\n",
      "Wall time: 852 ms\n",
      "--Order of Operations +,-,/,* () positive reals--\n",
      "CPU times: user 2.13 s, sys: 0 ns, total: 2.13 s\n",
      "Wall time: 2.14 s\n",
      "Skill Order of Operations +,-,/,* () positive reals not found in test set\n",
      "--Order of Operations All--\n",
      "CPU times: user 3.8 s, sys: 0 ns, total: 3.8 s\n",
      "Wall time: 3.95 s\n",
      "--Equation Solving Two or Fewer Steps--\n",
      "CPU times: user 3.82 s, sys: 0 ns, total: 3.82 s\n",
      "Wall time: 3.76 s\n",
      "--Equation Solving More Than Two Steps--\n",
      "CPU times: user 1.91 s, sys: 0 ns, total: 1.91 s\n",
      "Wall time: 1.88 s\n",
      "--Angles - Obtuse, Acute, and Right--\n",
      "CPU times: user 1.27 s, sys: 0 ns, total: 1.27 s\n",
      "Wall time: 1.25 s\n",
      "--Greatest Common Factor--\n",
      "CPU times: user 1.43 s, sys: 0 ns, total: 1.43 s\n",
      "Wall time: 1.44 s\n",
      "--Computation with Real Numbers--\n",
      "CPU times: user 776 ms, sys: 0 ns, total: 776 ms\n",
      "Wall time: 745 ms\n",
      "--Write Linear Equation from Ordered Pairs--\n",
      "CPU times: user 644 ms, sys: 0 ns, total: 644 ms\n",
      "Wall time: 654 ms\n",
      "--Write Linear Equation from Situation--\n",
      "CPU times: user 1.75 s, sys: 0 ns, total: 1.75 s\n",
      "Wall time: 1.75 s\n",
      "--Recognize Linear Pattern--\n",
      "CPU times: user 1.18 s, sys: 0 ns, total: 1.18 s\n",
      "Wall time: 1.09 s\n",
      "--Write Linear Equation from Graph--\n",
      "CPU times: user 1.82 s, sys: 0 ns, total: 1.82 s\n",
      "Wall time: 1.8 s\n",
      "--Finding Slope From Situation--\n",
      "CPU times: user 355 ms, sys: 0 ns, total: 355 ms\n",
      "Wall time: 326 ms\n",
      "Skill Finding Slope From Situation not found in test set\n",
      "--Finding Slope From Equation--\n",
      "CPU times: user 228 ms, sys: 0 ns, total: 228 ms\n",
      "Wall time: 206 ms\n",
      "--Finding Slope from Ordered Pairs--\n",
      "CPU times: user 589 ms, sys: 0 ns, total: 589 ms\n",
      "Wall time: 559 ms\n",
      "Skill Finding Slope from Ordered Pairs not found in test set\n",
      "--Distributive Property--\n",
      "CPU times: user 15.5 ms, sys: 0 ns, total: 15.5 ms\n",
      "Wall time: 8.8 ms\n",
      "Skill Distributive Property not found in test set\n",
      "--Midpoint--\n",
      "CPU times: user 475 ms, sys: 0 ns, total: 475 ms\n",
      "Wall time: 454 ms\n",
      "--Polynomial Factors--\n",
      "CPU times: user 9.4 ms, sys: 0 ns, total: 9.4 ms\n",
      "Wall time: 9.43 ms\n",
      "--Recognize Quadratic Pattern--\n",
      "CPU times: user 54.7 ms, sys: 0 ns, total: 54.7 ms\n",
      "Wall time: 51.3 ms\n",
      "Skill Recognize Quadratic Pattern not found in test set\n",
      "--Solving Systems of Linear Equations--\n",
      "CPU times: user 293 ms, sys: 0 ns, total: 293 ms\n",
      "Wall time: 275 ms\n",
      "--Quadratic Formula to Solve Quadratic Equation--\n",
      "CPU times: user 207 ms, sys: 0 ns, total: 207 ms\n",
      "Wall time: 163 ms\n",
      "--Parts of a Polyomial, Terms, Coefficient, Monomial, Exponent, Variable--\n",
      "CPU times: user 838 ms, sys: 0 ns, total: 838 ms\n",
      "Wall time: 848 ms\n",
      "--Interpreting Coordinate Graphs --\n",
      "CPU times: user 867 ms, sys: 0 ns, total: 867 ms\n",
      "Wall time: 852 ms\n",
      "--Solving for a variable--\n",
      "CPU times: user 1.11 s, sys: 0 ns, total: 1.11 s\n",
      "Wall time: 1.08 s\n",
      "--Simplifying Expressions positive exponents--\n",
      "CPU times: user 436 ms, sys: 0 ns, total: 436 ms\n",
      "Wall time: 455 ms\n",
      "--Solving Inequalities--\n",
      "CPU times: user 1.07 s, sys: 0 ns, total: 1.07 s\n",
      "Wall time: 1.05 s\n",
      "--Solving Systems of Linear Equations by Graphing--\n",
      "CPU times: user 788 ms, sys: 0 ns, total: 788 ms\n",
      "Wall time: 756 ms\n"
     ]
    },
    {
     "data": {
      "text/html": [
       "<div>\n",
       "<style scoped>\n",
       "    .dataframe tbody tr th:only-of-type {\n",
       "        vertical-align: middle;\n",
       "    }\n",
       "\n",
       "    .dataframe tbody tr th {\n",
       "        vertical-align: top;\n",
       "    }\n",
       "\n",
       "    .dataframe thead th {\n",
       "        text-align: right;\n",
       "    }\n",
       "</style>\n",
       "<table border=\"1\" class=\"dataframe\">\n",
       "  <thead>\n",
       "    <tr style=\"text-align: right;\">\n",
       "      <th></th>\n",
       "      <th>user_id</th>\n",
       "      <th>order_id</th>\n",
       "      <th>skill_name</th>\n",
       "      <th>correct</th>\n",
       "      <th>bkt_predictions</th>\n",
       "    </tr>\n",
       "  </thead>\n",
       "  <tbody>\n",
       "    <tr>\n",
       "      <th>2</th>\n",
       "      <td>70363</td>\n",
       "      <td>35450204</td>\n",
       "      <td>Box and Whisker</td>\n",
       "      <td>0</td>\n",
       "      <td>0.71789</td>\n",
       "    </tr>\n",
       "    <tr>\n",
       "      <th>3</th>\n",
       "      <td>70363</td>\n",
       "      <td>35450295</td>\n",
       "      <td>Box and Whisker</td>\n",
       "      <td>1</td>\n",
       "      <td>0.60606</td>\n",
       "    </tr>\n",
       "    <tr>\n",
       "      <th>4</th>\n",
       "      <td>70363</td>\n",
       "      <td>35450311</td>\n",
       "      <td>Box and Whisker</td>\n",
       "      <td>0</td>\n",
       "      <td>0.72707</td>\n",
       "    </tr>\n",
       "    <tr>\n",
       "      <th>5</th>\n",
       "      <td>70363</td>\n",
       "      <td>35450555</td>\n",
       "      <td>Box and Whisker</td>\n",
       "      <td>1</td>\n",
       "      <td>0.61645</td>\n",
       "    </tr>\n",
       "    <tr>\n",
       "      <th>6</th>\n",
       "      <td>70363</td>\n",
       "      <td>35450573</td>\n",
       "      <td>Box and Whisker</td>\n",
       "      <td>1</td>\n",
       "      <td>0.73387</td>\n",
       "    </tr>\n",
       "  </tbody>\n",
       "</table>\n",
       "</div>"
      ],
      "text/plain": [
       "   user_id  order_id       skill_name  correct  bkt_predictions\n",
       "2    70363  35450204  Box and Whisker        0          0.71789\n",
       "3    70363  35450295  Box and Whisker        1          0.60606\n",
       "4    70363  35450311  Box and Whisker        0          0.72707\n",
       "5    70363  35450555  Box and Whisker        1          0.61645\n",
       "6    70363  35450573  Box and Whisker        1          0.73387"
      ]
     },
     "execution_count": 40,
     "metadata": {},
     "output_type": "execute_result"
    }
   ],
   "source": [
    "df_preds = pd.DataFrame()\n",
    "# Train a BKT model for each skill\n",
    "for skill in data['skill_name'].unique():\n",
    "    print(\"--{}--\".format(skill))\n",
    "    try:\n",
    "        X_train_skill = X_train[X_train['skill_name'] == skill]\n",
    "        X_test_skill = X_test[X_test['skill_name'] == skill]\n",
    "        model = Model(seed=0)\n",
    "        %time model.fit(data=X_train_skill) \n",
    "        preds = model.predict(data=X_test_skill)[['user_id', 'order_id', 'skill_name', 'correct', 'correct_predictions']]\n",
    "        df_preds = df_preds.append(preds)\n",
    "    except:\n",
    "        print('Skill {} not found in test set'.format(skill))\n",
    "\n",
    "X_test = df_preds\n",
    "X_test.columns = ['user_id', 'order_id', 'skill_name', 'correct', 'bkt_predictions']\n",
    "X_test.head()"
   ]
  },
  {
   "cell_type": "markdown",
   "id": "bf9e1fb2-a059-4f75-bf42-5422ede9721a",
   "metadata": {},
   "source": [
    "### Comparison across models"
   ]
  },
  {
   "cell_type": "markdown",
   "id": "36803625-6633-48c7-9cab-8d04025b8713",
   "metadata": {},
   "source": [
    "Finally, we again plot the RMSE and AUC for BKT and DKT."
   ]
  },
  {
   "cell_type": "code",
   "execution_count": 41,
   "id": "f3c57c2b-0ed0-4483-b266-34164f48da4a",
   "metadata": {},
   "outputs": [
    {
     "data": {
      "text/plain": [
       "Text(0, 0.5, 'RMSE')"
      ]
     },
     "execution_count": 41,
     "metadata": {},
     "output_type": "execute_result"
    },
    {
     "data": {
      "image/png": "[encoded data removed]",
      "text/plain": [
       "<Figure size 432x288 with 1 Axes>"
      ]
     },
     "metadata": {
      "needs_background": "light"
     },
     "output_type": "display_data"
    }
   ],
   "source": [
    "rmse_bkt = mean_squared_error(X_test['bkt_predictions'],X_test['correct'], squared = False)\n",
    "rmse_dkt = metrics_dkt_full[2]\n",
    "\n",
    "rmse = [rmse_bkt, rmse_dkt]\n",
    "models = ['BKT', 'DKT']\n",
    "\n",
    "plt.bar(models, rmse)\n",
    "plt.ylabel('RMSE')"
   ]
  },
  {
   "cell_type": "code",
   "execution_count": 42,
   "id": "94861c39-2286-450b-81ee-bd0b36d768c3",
   "metadata": {},
   "outputs": [
    {
     "data": {
      "text/plain": [
       "Text(0, 0.5, 'AUC')"
      ]
     },
     "execution_count": 42,
     "metadata": {},
     "output_type": "execute_result"
    },
    {
     "data": {
      "image/png": "[encoded data removed]",
      "text/plain": [
       "<Figure size 432x288 with 1 Axes>"
      ]
     },
     "metadata": {
      "needs_background": "light"
     },
     "output_type": "display_data"
    }
   ],
   "source": [
    "auc_bkt = roc_auc_score(X_test['correct'], X_test['bkt_predictions'])\n",
    "auc_dkt = metrics_dkt_full[1]\n",
    "\n",
    "auc = [auc_bkt, auc_dkt]\n",
    "models = ['BKT', 'DKT']\n",
    "\n",
    "plt.bar(models, auc)\n",
    "plt.ylabel('AUC')"
   ]
  },
  {
   "cell_type": "code",
   "execution_count": 43,
   "id": "8e53cbf3-762d-4520-9af7-122728b9f0ae",
   "metadata": {},
   "outputs": [
    {
     "data": {
      "text/plain": [
       "[0.37921100290974447, 0.36206743121147156]"
      ]
     },
     "execution_count": 43,
     "metadata": {},
     "output_type": "execute_result"
    }
   ],
   "source": [
    "rmse"
   ]
  },
  {
   "cell_type": "code",
   "execution_count": 44,
   "id": "f379caab-6d1f-4e82-8a28-6824d0b663be",
   "metadata": {},
   "outputs": [
    {
     "data": {
      "text/plain": [
       "[0.8253168302396643, 0.8575211763381958]"
      ]
     },
     "execution_count": 44,
     "metadata": {},
     "output_type": "execute_result"
    }
   ],
   "source": [
    "auc"
   ]
  },
  {
   "cell_type": "code",
   "execution_count": null,
   "id": "0d8b657d-6ae4-41c6-9530-d2615f85a039",
   "metadata": {},
   "outputs": [],
   "source": []
  }
 ],
 "metadata": {
  "kernelspec": {
   "display_name": "p_tf",
   "language": "python",
   "name": "p_tf"
  },
  "language_info": {
   "codemirror_mode": {
    "name": "ipython",
    "version": 3
   },
   "file_extension": ".py",
   "mimetype": "text/x-python",
   "name": "python",
   "nbconvert_exporter": "python",
   "pygments_lexer": "ipython3",
   "version": "3.8.10"
  }
 },
 "nbformat": 4,
 "nbformat_minor": 5
}
