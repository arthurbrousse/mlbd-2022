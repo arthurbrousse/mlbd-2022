{
 "cells": [
  {
   "cell_type": "markdown",
   "id": "b8135284-1238-480e-89d8-5790b142ea66",
   "metadata": {},
   "source": [
    "# Lecture 6 - Demo Notebook"
   ]
  },
  {
   "cell_type": "markdown",
   "id": "494fe36e-c815-4bae-88b4-6c784e829d1d",
   "metadata": {},
   "source": [
    "ASSISTments is a free tool for assigning and assessing math problems and homework. Teachers can select and assign problem sets. Once they get an assignment, students can complete it at their own pace and with the help of hints, multiple chances, and immediate feedback. Teachers get instant results broken down by individual student or for the whole class. The dataset involves 4,217 middle-school students practicing an electronic tutor that teaches and evaluates students in grade-school math, with a total of 525,534 trials. The student data are in a comma-delimited text file with one row per trial. The columns should correspond to a trial's user id, the order id (timestamp), the skill name, and and whether the student produced a correct response in the trial. More information on the platform can be found [here](https://www.commonsense.org/education/website/assistments). \n",
    "\n",
    "The ASSISTments data sets are often used for benchmarking knowledge tracing models. We will play with a simplified data set that contains the following columns:\n",
    "\n",
    "| Name                   | Description                         |\n",
    "| ---------------------- | ------------------------------------------------------------ |\n",
    "| user_id | The ID of the student who is solving the problem.  | |\n",
    "| order_id | The temporal ID (timestamp) associated with the student's answer to the problem.  | |\n",
    "| skill_name | The name of the skill associated with the problem. | |\n",
    "| correct | The student's performance on the problem: 1 if the problem's answer is correct at the first attempt, 0 otherwise. "
   ]
  },
  {
   "cell_type": "markdown",
   "id": "f8f92b49-a6b7-481e-abe3-8bd1d929965f",
   "metadata": {},
   "source": [
    "We first load the data set."
   ]
  },
  {
   "cell_type": "code",
   "execution_count": 2,
   "id": "6cb3cc5d-dfdc-4214-b01c-0f9b8dfa77a7",
   "metadata": {},
   "outputs": [],
   "source": [
    "# Principal package imports\n",
    "import matplotlib.pyplot as plt\n",
    "import seaborn as sns\n",
    "import pandas as pd\n",
    "import numpy as np\n",
    "import scipy as sc\n",
    "\n",
    "# Scikit-learn package imports\n",
    "from sklearn import feature_extraction, model_selection\n",
    "from sklearn.metrics import mean_squared_error, roc_auc_score\n",
    "\n",
    "# PyBKT package imports\n",
    "from pyBKT.models import Model\n",
    "\n",
    "DATA_DIR = \"./../data/\""
   ]
  },
  {
   "cell_type": "code",
   "execution_count": 3,
   "id": "f0e03b6b-462f-4770-af1c-c0b4fd00f565",
   "metadata": {},
   "outputs": [
    {
     "data": {
      "text/html": [
       "<div>\n",
       "<style scoped>\n",
       "    .dataframe tbody tr th:only-of-type {\n",
       "        vertical-align: middle;\n",
       "    }\n",
       "\n",
       "    .dataframe tbody tr th {\n",
       "        vertical-align: top;\n",
       "    }\n",
       "\n",
       "    .dataframe thead th {\n",
       "        text-align: right;\n",
       "    }\n",
       "</style>\n",
       "<table border=\"1\" class=\"dataframe\">\n",
       "  <thead>\n",
       "    <tr style=\"text-align: right;\">\n",
       "      <th></th>\n",
       "      <th>user_id</th>\n",
       "      <th>order_id</th>\n",
       "      <th>skill_name</th>\n",
       "      <th>correct</th>\n",
       "    </tr>\n",
       "  </thead>\n",
       "  <tbody>\n",
       "    <tr>\n",
       "      <th>0</th>\n",
       "      <td>64525</td>\n",
       "      <td>33022537</td>\n",
       "      <td>Box and Whisker</td>\n",
       "      <td>1</td>\n",
       "    </tr>\n",
       "    <tr>\n",
       "      <th>1</th>\n",
       "      <td>64525</td>\n",
       "      <td>33022709</td>\n",
       "      <td>Box and Whisker</td>\n",
       "      <td>1</td>\n",
       "    </tr>\n",
       "    <tr>\n",
       "      <th>2</th>\n",
       "      <td>70363</td>\n",
       "      <td>35450204</td>\n",
       "      <td>Box and Whisker</td>\n",
       "      <td>0</td>\n",
       "    </tr>\n",
       "    <tr>\n",
       "      <th>3</th>\n",
       "      <td>70363</td>\n",
       "      <td>35450295</td>\n",
       "      <td>Box and Whisker</td>\n",
       "      <td>1</td>\n",
       "    </tr>\n",
       "    <tr>\n",
       "      <th>4</th>\n",
       "      <td>70363</td>\n",
       "      <td>35450311</td>\n",
       "      <td>Box and Whisker</td>\n",
       "      <td>0</td>\n",
       "    </tr>\n",
       "  </tbody>\n",
       "</table>\n",
       "</div>"
      ],
      "text/plain": [
       "   user_id  order_id       skill_name  correct\n",
       "0    64525  33022537  Box and Whisker        1\n",
       "1    64525  33022709  Box and Whisker        1\n",
       "2    70363  35450204  Box and Whisker        0\n",
       "3    70363  35450295  Box and Whisker        1\n",
       "4    70363  35450311  Box and Whisker        0"
      ]
     },
     "execution_count": 3,
     "metadata": {},
     "output_type": "execute_result"
    }
   ],
   "source": [
    "assistments = pd.read_csv(DATA_DIR + 'assistments.csv', low_memory=False).dropna()\n",
    "assistments.head()"
   ]
  },
  {
   "cell_type": "markdown",
   "id": "462477a1-47f4-4610-b41e-569cf320903f",
   "metadata": {},
   "source": [
    "Next, we print the number of unique students and skills in this data set."
   ]
  },
  {
   "cell_type": "code",
   "execution_count": 4,
   "id": "6d8bfc64-ddd6-48b7-9a05-5a5453e5f17b",
   "metadata": {},
   "outputs": [
    {
     "name": "stdout",
     "output_type": "stream",
     "text": [
      "Number of unique students in the dataset: 4151\n",
      "Number of unique skills in the dataset: 110\n"
     ]
    }
   ],
   "source": [
    "print(\"Number of unique students in the dataset:\", len(set(assistments['user_id'])))\n",
    "print(\"Number of unique skills in the dataset:\", len(set(assistments['skill_name'])))"
   ]
  },
  {
   "cell_type": "markdown",
   "id": "03c0945a-27b0-4186-8e02-eb0cebefa86c",
   "metadata": {},
   "source": [
    "To keep things simpler for demonstration purposes, we will focus on the following 6 skills in this lecture:  \n",
    "`'Circle Graph', 'Venn Diagram', 'Mode', 'Division Fractions', 'Finding Percents', 'Area Rectangle'`"
   ]
  },
  {
   "cell_type": "code",
   "execution_count": 5,
   "id": "1d161bd3-1b37-4768-842c-3c07779ced37",
   "metadata": {},
   "outputs": [
    {
     "name": "stdout",
     "output_type": "stream",
     "text": [
      "Skill set: {'Finding Percents', 'Area Rectangle', 'Mode', 'Circle Graph', 'Venn Diagram', 'Division Fractions'}\n",
      "Number of unique students in the subset: 1527\n",
      "Number of unique skills in the subset: 6\n"
     ]
    }
   ],
   "source": [
    "skills_subset = ['Circle Graph', 'Venn Diagram', 'Mode', 'Division Fractions', 'Finding Percents', 'Area Rectangle']\n",
    "data = assistments[assistments['skill_name'].isin(skills_subset)]\n",
    "\n",
    "print(\"Skill set:\", set(data['skill_name']))\n",
    "print(\"Number of unique students in the subset:\", len(set(data['user_id'])))\n",
    "print(\"Number of unique skills in the subset:\", len(set(data['skill_name'])))"
   ]
  },
  {
   "cell_type": "markdown",
   "id": "be73a6cb-4f34-446a-a27a-6f403c47076c",
   "metadata": {},
   "source": [
    "## BKT Model - Training & Prediction"
   ]
  },
  {
   "cell_type": "markdown",
   "id": "7f25fc9f-84de-4dd5-8c2e-d6dfb3ce6b1d",
   "metadata": {},
   "source": [
    "We will use a train-test setting (20% of students in the test set). The `create_iterator` function creates an iterator object able to split student's interactions included in data in 10 folds such that the same student does not appear in two different folds. To do so, we appropriately initialize a scikit-learn's GroupShuffleSplit iterator with 80% training set size and non-overlapping groups, then return the iterator."
   ]
  },
  {
   "cell_type": "code",
   "execution_count": 6,
   "id": "d7ea098b-23ab-467f-981d-80b28f97dd99",
   "metadata": {},
   "outputs": [],
   "source": [
    "def create_iterator(data):\n",
    "    '''\n",
    "    Create an iterator to split interactions in data into train and test, with the same student not appearing in two diverse folds.\n",
    "    :param data:        Dataframe with student's interactions.\n",
    "    :return:            An iterator.\n",
    "    '''    \n",
    "    # Both passing a matrix with the raw data or just an array of indexes works\n",
    "    X = np.arange(len(data.index)) \n",
    "    # Groups of interactions are identified by the user id (we do not want the same user appearing in two folds)\n",
    "    groups = data['user_id'].values \n",
    "    return model_selection.GroupShuffleSplit(n_splits=1, train_size=.8, test_size=0.2, random_state=0).split(X, groups=groups)"
   ]
  },
  {
   "cell_type": "markdown",
   "id": "6b25b9da",
   "metadata": {},
   "source": [
    "Let's check the output of this function and a few properties of the iterator. "
   ]
  },
  {
   "cell_type": "code",
   "execution_count": 7,
   "id": "445a14da",
   "metadata": {},
   "outputs": [
    {
     "name": "stdout",
     "output_type": "stream",
     "text": [
      "-- Circle Graph --\n",
      "Iteration: 0\n",
      "Intersection between train and test user ids: set()\n",
      "All user ids in train and test user union: True\n",
      "User ids tested more than once: set()\n",
      "\n",
      "-- Venn Diagram --\n",
      "Iteration: 0\n",
      "Intersection between train and test user ids: set()\n",
      "All user ids in train and test user union: True\n",
      "User ids tested more than once: set()\n",
      "\n",
      "-- Mode --\n",
      "Iteration: 0\n",
      "Intersection between train and test user ids: set()\n",
      "All user ids in train and test user union: True\n",
      "User ids tested more than once: set()\n",
      "\n",
      "-- Division Fractions --\n",
      "Iteration: 0\n",
      "Intersection between train and test user ids: set()\n",
      "All user ids in train and test user union: True\n",
      "User ids tested more than once: set()\n",
      "\n",
      "-- Finding Percents --\n",
      "Iteration: 0\n",
      "Intersection between train and test user ids: set()\n",
      "All user ids in train and test user union: True\n",
      "User ids tested more than once: set()\n",
      "\n",
      "-- Area Rectangle --\n",
      "Iteration: 0\n",
      "Intersection between train and test user ids: set()\n",
      "All user ids in train and test user union: True\n",
      "User ids tested more than once: set()\n",
      "\n"
     ]
    }
   ],
   "source": [
    "tested_user_ids = set()\n",
    "for skill in skills_subset:\n",
    "    print(\"--\", skill, \"--\")\n",
    "    skill_data = data[data['skill_name'] == skill]\n",
    "    for iteration, (train_index, test_index) in enumerate(create_iterator(skill_data)):\n",
    "        # There should only be one iteration per skill, because we only specify one fold for the split. \n",
    "        # If we wanted multiple folds, we could expand the n_splits parameter in create_iterator.\n",
    "        user_ids = skill_data['user_id'].unique()\n",
    "        train_user_ids = skill_data.iloc[train_index]['user_id'].unique()\n",
    "        test_user_ids = skill_data.iloc[test_index]['user_id'].unique()\n",
    "        print('Iteration:', iteration)\n",
    "        print('Intersection between train and test user ids:', set(train_user_ids) & set(test_user_ids))\n",
    "        print('All user ids in train and test user union:', len(set(train_user_ids).union(set(test_user_ids))) == len(user_ids))\n",
    "        print('User ids tested more than once:', set(tested_user_ids) & set(test_user_ids))\n",
    "        print('')"
   ]
  },
  {
   "cell_type": "markdown",
   "id": "ab7e2d88",
   "metadata": {},
   "source": [
    "In our split, no user appears in both training and test sets. The union of the users in both training and test sets given us the full set of user ids in the dataset. Each user appears in the test set exactly once.  "
   ]
  },
  {
   "cell_type": "markdown",
   "id": "66539e7b-3fed-453b-9683-a9d44c04f16b",
   "metadata": {},
   "source": [
    "Next, we train a BKT model for each skill on the training data set and then predict on the test data set.\n",
    "We obtain `df_preds`, a data frame containing the predictions for each user and skill in the test data set. We output the overall RMSE and AUC scores."
   ]
  },
  {
   "cell_type": "code",
   "execution_count": null,
   "id": "14b81851-9d4b-442d-bb49-9053e5634da4",
   "metadata": {},
   "outputs": [
    {
     "name": "stdout",
     "output_type": "stream",
     "text": [
      "-- Circle Graph --\n",
      "CPU times: user 5.62 s, sys: 30.3 ms, total: 5.65 s\n",
      "Wall time: 5.81 s\n",
      "-- Venn Diagram --\n",
      "CPU times: user 8.77 s, sys: 60.8 ms, total: 8.83 s\n",
      "Wall time: 8.88 s\n",
      "-- Mode --\n",
      "CPU times: user 3.68 s, sys: 9.7 ms, total: 3.69 s\n",
      "Wall time: 3.68 s\n",
      "-- Division Fractions --\n",
      "CPU times: user 5.4 s, sys: 11.3 ms, total: 5.41 s\n",
      "Wall time: 5.48 s\n",
      "-- Finding Percents --\n",
      "CPU times: user 5.54 s, sys: 14.6 ms, total: 5.56 s\n",
      "Wall time: 5.78 s\n",
      "-- Area Rectangle --\n",
      "CPU times: user 3.55 s, sys: 19.8 ms, total: 3.57 s\n",
      "Wall time: 3.58 s\n"
     ]
    },
    {
     "data": {
      "text/html": [
       "<div>\n",
       "<style scoped>\n",
       "    .dataframe tbody tr th:only-of-type {\n",
       "        vertical-align: middle;\n",
       "    }\n",
       "\n",
       "    .dataframe tbody tr th {\n",
       "        vertical-align: top;\n",
       "    }\n",
       "\n",
       "    .dataframe thead th {\n",
       "        text-align: right;\n",
       "    }\n",
       "</style>\n",
       "<table border=\"1\" class=\"dataframe\">\n",
       "  <thead>\n",
       "    <tr style=\"text-align: right;\">\n",
       "      <th></th>\n",
       "      <th>user_id</th>\n",
       "      <th>skill_name</th>\n",
       "      <th>correct</th>\n",
       "      <th>correct_predictions</th>\n",
       "    </tr>\n",
       "  </thead>\n",
       "  <tbody>\n",
       "    <tr>\n",
       "      <th>3969</th>\n",
       "      <td>64525</td>\n",
       "      <td>Circle Graph</td>\n",
       "      <td>1</td>\n",
       "      <td>0.47176</td>\n",
       "    </tr>\n",
       "    <tr>\n",
       "      <th>3970</th>\n",
       "      <td>64525</td>\n",
       "      <td>Circle Graph</td>\n",
       "      <td>1</td>\n",
       "      <td>0.64071</td>\n",
       "    </tr>\n",
       "    <tr>\n",
       "      <th>3971</th>\n",
       "      <td>64525</td>\n",
       "      <td>Circle Graph</td>\n",
       "      <td>1</td>\n",
       "      <td>0.69016</td>\n",
       "    </tr>\n",
       "    <tr>\n",
       "      <th>3972</th>\n",
       "      <td>64525</td>\n",
       "      <td>Circle Graph</td>\n",
       "      <td>0</td>\n",
       "      <td>0.70005</td>\n",
       "    </tr>\n",
       "    <tr>\n",
       "      <th>3973</th>\n",
       "      <td>64525</td>\n",
       "      <td>Circle Graph</td>\n",
       "      <td>1</td>\n",
       "      <td>0.69623</td>\n",
       "    </tr>\n",
       "    <tr>\n",
       "      <th>...</th>\n",
       "      <td>...</td>\n",
       "      <td>...</td>\n",
       "      <td>...</td>\n",
       "      <td>...</td>\n",
       "    </tr>\n",
       "    <tr>\n",
       "      <th>337153</th>\n",
       "      <td>96264</td>\n",
       "      <td>Area Rectangle</td>\n",
       "      <td>1</td>\n",
       "      <td>0.89257</td>\n",
       "    </tr>\n",
       "    <tr>\n",
       "      <th>337154</th>\n",
       "      <td>96264</td>\n",
       "      <td>Area Rectangle</td>\n",
       "      <td>1</td>\n",
       "      <td>0.97978</td>\n",
       "    </tr>\n",
       "    <tr>\n",
       "      <th>337159</th>\n",
       "      <td>96270</td>\n",
       "      <td>Area Rectangle</td>\n",
       "      <td>1</td>\n",
       "      <td>0.89257</td>\n",
       "    </tr>\n",
       "    <tr>\n",
       "      <th>337167</th>\n",
       "      <td>96292</td>\n",
       "      <td>Area Rectangle</td>\n",
       "      <td>1</td>\n",
       "      <td>0.89257</td>\n",
       "    </tr>\n",
       "    <tr>\n",
       "      <th>337169</th>\n",
       "      <td>96295</td>\n",
       "      <td>Area Rectangle</td>\n",
       "      <td>1</td>\n",
       "      <td>0.89257</td>\n",
       "    </tr>\n",
       "  </tbody>\n",
       "</table>\n",
       "<p>9551 rows × 4 columns</p>\n",
       "</div>"
      ],
      "text/plain": [
       "        user_id      skill_name  correct  correct_predictions\n",
       "3969      64525    Circle Graph        1              0.47176\n",
       "3970      64525    Circle Graph        1              0.64071\n",
       "3971      64525    Circle Graph        1              0.69016\n",
       "3972      64525    Circle Graph        0              0.70005\n",
       "3973      64525    Circle Graph        1              0.69623\n",
       "...         ...             ...      ...                  ...\n",
       "337153    96264  Area Rectangle        1              0.89257\n",
       "337154    96264  Area Rectangle        1              0.97978\n",
       "337159    96270  Area Rectangle        1              0.89257\n",
       "337167    96292  Area Rectangle        1              0.89257\n",
       "337169    96295  Area Rectangle        1              0.89257\n",
       "\n",
       "[9551 rows x 4 columns]"
      ]
     },
     "metadata": {},
     "output_type": "display_data"
    }
   ],
   "source": [
    "rmse_bkt, auc_bkt = [], []\n",
    "df_preds = pd.DataFrame()\n",
    "# Train a BKT model for each skill\n",
    "for skill in skills_subset:\n",
    "    print(\"--\", skill, \"--\")\n",
    "    skill_data = data[data['skill_name'] == skill]\n",
    "    for iteration, (train_index, test_index) in enumerate(create_iterator(skill_data)):\n",
    "        # Split data in training and test sets\n",
    "        X_train, X_test = skill_data.iloc[train_index], skill_data.iloc[test_index]\n",
    "        # Initialize and fit the model\n",
    "        model = Model(seed=0)\n",
    "        %time model.fit(data=X_train) \n",
    "        # Compute predictions\n",
    "        preds = model.predict(data=X_test)[['user_id', 'skill_name', 'correct', 'correct_predictions']]\n",
    "        df_preds = df_preds.append(preds)\n",
    "        \n",
    "# Print the the resulting dataframe\n",
    "display(df_preds)"
   ]
  },
  {
   "cell_type": "code",
   "execution_count": null,
   "id": "1b94e375-1f0d-406e-b777-85e7264adb92",
   "metadata": {},
   "outputs": [
    {
     "name": "stdout",
     "output_type": "stream",
     "text": [
      "Overall RMSE: 0.35648049178737873 Overall AUC: 0.8643291894264933\n"
     ]
    }
   ],
   "source": [
    "# Compute overall RMSE and AUC\n",
    "rmse = mean_squared_error(df_preds.correct, df_preds.correct_predictions, squared = False)\n",
    "AUC = roc_auc_score(df_preds.correct, df_preds.correct_predictions)\n",
    "print('Overall RMSE:', rmse, 'Overall AUC:', AUC)"
   ]
  },
  {
   "cell_type": "markdown",
   "id": "ea7d57aa-7e78-44fc-88a8-ff8b144e5217",
   "metadata": {},
   "source": [
    "We hypothesize that performance of the model could depend on the skill. Some skills might be more difficult to predict than others. Next, we therefore compute the RMSE and AUC separately for each skill."
   ]
  },
  {
   "cell_type": "code",
   "execution_count": null,
   "id": "e613d122-7a3d-42b2-bc87-64666903908d",
   "metadata": {},
   "outputs": [
    {
     "name": "stdout",
     "output_type": "stream",
     "text": [
      "RMSE 0.37480713988220765 0.07060155112551675\n",
      "AUC 0.7869414403357883 0.05935770306751533\n"
     ]
    }
   ],
   "source": [
    "# Compute RMSE and AUC per skill\n",
    "skill_rmse = df_preds.groupby(['skill_name']).apply(lambda df_preds: mean_squared_error(df_preds.correct, df_preds.correct_predictions, squared=False))\n",
    "print('RMSE', np.mean(skill_rmse), np.std(skill_rmse))\n",
    "\n",
    "skill_auc = df_preds.groupby(['skill_name']).apply(lambda df_preds: roc_auc_score(df_preds.correct, df_preds.correct_predictions))\n",
    "print('AUC', np.mean(skill_auc), np.std(skill_auc))"
   ]
  },
  {
   "cell_type": "markdown",
   "id": "6cc9e630-6b68-462d-8dc1-2b3b0bfb3477",
   "metadata": {},
   "source": [
    "Next, we visualize our results in a bar chart. We display the overall RMSE and AUC (over all skills) including standard deviations as well as the per skill performance metrics."
   ]
  },
  {
   "cell_type": "code",
   "execution_count": null,
   "id": "f41a2dae-0edd-42be-bde9-9e5863d87617",
   "metadata": {},
   "outputs": [
    {
     "data": {
      "image/png": "[encoded data removed]",
      "text/plain": [
       "<Figure size 720x360 with 2 Axes>"
      ]
     },
     "metadata": {
      "needs_background": "light"
     },
     "output_type": "display_data"
    },
    {
     "data": {
      "image/png": "[encoded data removed]",
      "text/plain": [
       "<Figure size 720x360 with 2 Axes>"
      ]
     },
     "metadata": {
      "needs_background": "light"
     },
     "output_type": "display_data"
    }
   ],
   "source": [
    "# Create overall RMSE and RMSE per skill data frames\n",
    "skills_all = ['Skills']*len(skills_subset)\n",
    "df_overall_rmse = pd.DataFrame(list(zip(skills_all, skill_rmse)),\n",
    "               columns =['x', 'RMSE'])\n",
    "df_skill_rmse = pd.DataFrame(list(zip(skills_subset, skill_rmse)),\n",
    "               columns =['x', 'RMSE'])\n",
    "\n",
    "# Create overall AUC and AUC per skill data frames\n",
    "df_overall_auc = pd.DataFrame(list(zip(skills_all, skill_auc)),\n",
    "               columns =['x', 'AUC'])\n",
    "df_skill_auc = pd.DataFrame(list(zip(skills_subset, skill_auc)),\n",
    "               columns =['x', 'AUC'])\n",
    "\n",
    "# Two bar plots for RMSE: first one with std (mean RMSE over all skills), then one bar plot with a bar for each specific skill\n",
    "fig, axes = plt.subplots(1, 2, figsize=(10,5))\n",
    "sns.barplot(ax=axes[0],x='x', y='RMSE', data=df_overall_rmse, estimator=np.mean, ci='sd')\n",
    "axes[0].set_title('Overall RMSE')\n",
    "axes[0].set_xlabel('')\n",
    "\n",
    "sns.barplot(ax=axes[1],x='x', y='RMSE', data=df_skill_rmse, estimator=np.mean, ci='sd')\n",
    "plt.xticks(rotation=90)\n",
    "axes[1].set_title('RMSE across skills')\n",
    "axes[1].set_xlabel('')\n",
    "\n",
    "fig.show()\n",
    "\n",
    "# Two bar plots for AUC: first one with std (mean AUC over all skills), then one bar plot with a bar for each specific skill\n",
    "fig, axes = plt.subplots(1, 2, figsize=(10,5))\n",
    "sns.barplot(ax=axes[0],x='x', y='AUC', data=df_overall_auc, estimator=np.mean, ci='sd')\n",
    "axes[0].set_title('Overall AUC')\n",
    "axes[0].set_xlabel('')\n",
    "\n",
    "sns.barplot(ax=axes[1],x='x', y='AUC', data=df_skill_auc, estimator=np.mean, ci='sd')\n",
    "plt.xticks(rotation=90)\n",
    "axes[1].set_title('AUC across skills')\n",
    "axes[1].set_xlabel('')\n",
    "\n",
    "fig.show()"
   ]
  },
  {
   "cell_type": "markdown",
   "id": "ad51e400-06e5-4cd9-acf6-cd46fc1b35df",
   "metadata": {},
   "source": [
    "Examining the RMSE across skills, we note that Venn Diagram has the largest RMSE, closely followed by division fractions and mode. The Circle Graph skills has the least RMSE (around 0.25) and is therefore most accurate. There is a large standard deviation across the average RMSE (top left plot), which indicates that the RMSE scores for BKT are skill-dependent.\n",
    "\n",
    "We observe that the AUC is relatively high, on average ~78% across skills. Area Rectangle has a very high AUC while the other skills remain between the 75% to 80% range. The lack of variation between skills shows some indication that AUC is not as skill-dependent as RMSE (but this can only be confirmed by looking at a larger number of skills)."
   ]
  }
 ],
 "metadata": {
  "kernelspec": {
   "display_name": "Python 3 (ipykernel)",
   "language": "python",
   "name": "python3"
  },
  "language_info": {
   "codemirror_mode": {
    "name": "ipython",
    "version": 3
   },
   "file_extension": ".py",
   "mimetype": "text/x-python",
   "name": "python",
   "nbconvert_exporter": "python",
   "pygments_lexer": "ipython3",
   "version": "3.8.10"
  }
 },
 "nbformat": 4,
 "nbformat_minor": 5
}
